{
 "cells": [
  {
   "cell_type": "code",
   "execution_count": 1,
   "metadata": {},
   "outputs": [],
   "source": [
    "import numpy as np\n",
    "import pandas as pd\n",
    "import matplotlib.pyplot as plt\n",
    "from sklearn.model_selection import train_test_split, cross_val_score\n",
    "from sklearn.ensemble import RandomForestRegressor\n",
    "from sklearn.metrics import r2_score as r2\n",
    "import seaborn as sns\n",
    "from sklearn.model_selection import KFold, GridSearchCV\n",
    "from sklearn.preprocessing import StandardScaler\n",
    "from sklearn.manifold import TSNE\n",
    "from sklearn.cluster import KMeans\n",
    "from sklearn.ensemble import GradientBoostingRegressor\n",
    "import math\n",
    "import datetime"
   ]
  },
  {
   "cell_type": "code",
   "execution_count": 2,
   "metadata": {},
   "outputs": [],
   "source": [
    "import warnings\n",
    "\n",
    "warnings.filterwarnings('ignore')"
   ]
  },
  {
   "cell_type": "code",
   "execution_count": null,
   "metadata": {},
   "outputs": [],
   "source": []
  },
  {
   "cell_type": "markdown",
   "metadata": {},
   "source": [
    "### Загрузка данных"
   ]
  },
  {
   "cell_type": "code",
   "execution_count": 3,
   "metadata": {},
   "outputs": [],
   "source": [
    "test_data = pd.read_csv('test.csv')"
   ]
  },
  {
   "cell_type": "code",
   "execution_count": 4,
   "metadata": {},
   "outputs": [
    {
     "data": {
      "text/html": [
       "<div>\n",
       "<style scoped>\n",
       "    .dataframe tbody tr th:only-of-type {\n",
       "        vertical-align: middle;\n",
       "    }\n",
       "\n",
       "    .dataframe tbody tr th {\n",
       "        vertical-align: top;\n",
       "    }\n",
       "\n",
       "    .dataframe thead th {\n",
       "        text-align: right;\n",
       "    }\n",
       "</style>\n",
       "<table border=\"1\" class=\"dataframe\">\n",
       "  <thead>\n",
       "    <tr style=\"text-align: right;\">\n",
       "      <th></th>\n",
       "      <th>Id</th>\n",
       "      <th>DistrictId</th>\n",
       "      <th>Rooms</th>\n",
       "      <th>Square</th>\n",
       "      <th>LifeSquare</th>\n",
       "      <th>KitchenSquare</th>\n",
       "      <th>Floor</th>\n",
       "      <th>HouseFloor</th>\n",
       "      <th>HouseYear</th>\n",
       "      <th>Ecology_1</th>\n",
       "      <th>Ecology_2</th>\n",
       "      <th>Ecology_3</th>\n",
       "      <th>Social_1</th>\n",
       "      <th>Social_2</th>\n",
       "      <th>Social_3</th>\n",
       "      <th>Healthcare_1</th>\n",
       "      <th>Helthcare_2</th>\n",
       "      <th>Shops_1</th>\n",
       "      <th>Shops_2</th>\n",
       "    </tr>\n",
       "  </thead>\n",
       "  <tbody>\n",
       "    <tr>\n",
       "      <td>0</td>\n",
       "      <td>725</td>\n",
       "      <td>58</td>\n",
       "      <td>2.0</td>\n",
       "      <td>49.882643</td>\n",
       "      <td>33.432782</td>\n",
       "      <td>6.0</td>\n",
       "      <td>6</td>\n",
       "      <td>14.0</td>\n",
       "      <td>1972</td>\n",
       "      <td>0.310199</td>\n",
       "      <td>B</td>\n",
       "      <td>B</td>\n",
       "      <td>11</td>\n",
       "      <td>2748</td>\n",
       "      <td>1</td>\n",
       "      <td>NaN</td>\n",
       "      <td>0</td>\n",
       "      <td>0</td>\n",
       "      <td>B</td>\n",
       "    </tr>\n",
       "    <tr>\n",
       "      <td>1</td>\n",
       "      <td>15856</td>\n",
       "      <td>74</td>\n",
       "      <td>2.0</td>\n",
       "      <td>69.263183</td>\n",
       "      <td>NaN</td>\n",
       "      <td>1.0</td>\n",
       "      <td>6</td>\n",
       "      <td>1.0</td>\n",
       "      <td>1977</td>\n",
       "      <td>0.075779</td>\n",
       "      <td>B</td>\n",
       "      <td>B</td>\n",
       "      <td>6</td>\n",
       "      <td>1437</td>\n",
       "      <td>3</td>\n",
       "      <td>NaN</td>\n",
       "      <td>0</td>\n",
       "      <td>2</td>\n",
       "      <td>B</td>\n",
       "    </tr>\n",
       "    <tr>\n",
       "      <td>2</td>\n",
       "      <td>5480</td>\n",
       "      <td>190</td>\n",
       "      <td>1.0</td>\n",
       "      <td>13.597819</td>\n",
       "      <td>15.948246</td>\n",
       "      <td>12.0</td>\n",
       "      <td>2</td>\n",
       "      <td>5.0</td>\n",
       "      <td>1909</td>\n",
       "      <td>0.000000</td>\n",
       "      <td>B</td>\n",
       "      <td>B</td>\n",
       "      <td>30</td>\n",
       "      <td>7538</td>\n",
       "      <td>87</td>\n",
       "      <td>4702.0</td>\n",
       "      <td>5</td>\n",
       "      <td>5</td>\n",
       "      <td>B</td>\n",
       "    </tr>\n",
       "    <tr>\n",
       "      <td>3</td>\n",
       "      <td>15664</td>\n",
       "      <td>47</td>\n",
       "      <td>2.0</td>\n",
       "      <td>73.046609</td>\n",
       "      <td>51.940842</td>\n",
       "      <td>9.0</td>\n",
       "      <td>22</td>\n",
       "      <td>22.0</td>\n",
       "      <td>2007</td>\n",
       "      <td>0.101872</td>\n",
       "      <td>B</td>\n",
       "      <td>B</td>\n",
       "      <td>23</td>\n",
       "      <td>4583</td>\n",
       "      <td>3</td>\n",
       "      <td>NaN</td>\n",
       "      <td>3</td>\n",
       "      <td>3</td>\n",
       "      <td>B</td>\n",
       "    </tr>\n",
       "    <tr>\n",
       "      <td>4</td>\n",
       "      <td>14275</td>\n",
       "      <td>27</td>\n",
       "      <td>1.0</td>\n",
       "      <td>47.527111</td>\n",
       "      <td>43.387569</td>\n",
       "      <td>1.0</td>\n",
       "      <td>17</td>\n",
       "      <td>17.0</td>\n",
       "      <td>2017</td>\n",
       "      <td>0.072158</td>\n",
       "      <td>B</td>\n",
       "      <td>B</td>\n",
       "      <td>2</td>\n",
       "      <td>629</td>\n",
       "      <td>1</td>\n",
       "      <td>NaN</td>\n",
       "      <td>0</td>\n",
       "      <td>0</td>\n",
       "      <td>A</td>\n",
       "    </tr>\n",
       "  </tbody>\n",
       "</table>\n",
       "</div>"
      ],
      "text/plain": [
       "      Id  DistrictId  Rooms     Square  LifeSquare  KitchenSquare  Floor  \\\n",
       "0    725          58    2.0  49.882643   33.432782            6.0      6   \n",
       "1  15856          74    2.0  69.263183         NaN            1.0      6   \n",
       "2   5480         190    1.0  13.597819   15.948246           12.0      2   \n",
       "3  15664          47    2.0  73.046609   51.940842            9.0     22   \n",
       "4  14275          27    1.0  47.527111   43.387569            1.0     17   \n",
       "\n",
       "   HouseFloor  HouseYear  Ecology_1 Ecology_2 Ecology_3  Social_1  Social_2  \\\n",
       "0        14.0       1972   0.310199         B         B        11      2748   \n",
       "1         1.0       1977   0.075779         B         B         6      1437   \n",
       "2         5.0       1909   0.000000         B         B        30      7538   \n",
       "3        22.0       2007   0.101872         B         B        23      4583   \n",
       "4        17.0       2017   0.072158         B         B         2       629   \n",
       "\n",
       "   Social_3  Healthcare_1  Helthcare_2  Shops_1 Shops_2  \n",
       "0         1           NaN            0        0       B  \n",
       "1         3           NaN            0        2       B  \n",
       "2        87        4702.0            5        5       B  \n",
       "3         3           NaN            3        3       B  \n",
       "4         1           NaN            0        0       A  "
      ]
     },
     "execution_count": 4,
     "metadata": {},
     "output_type": "execute_result"
    }
   ],
   "source": [
    "test_data.head()"
   ]
  },
  {
   "cell_type": "code",
   "execution_count": 5,
   "metadata": {},
   "outputs": [],
   "source": [
    "train_data = pd.read_csv('train.csv')"
   ]
  },
  {
   "cell_type": "code",
   "execution_count": 6,
   "metadata": {},
   "outputs": [
    {
     "data": {
      "text/html": [
       "<div>\n",
       "<style scoped>\n",
       "    .dataframe tbody tr th:only-of-type {\n",
       "        vertical-align: middle;\n",
       "    }\n",
       "\n",
       "    .dataframe tbody tr th {\n",
       "        vertical-align: top;\n",
       "    }\n",
       "\n",
       "    .dataframe thead th {\n",
       "        text-align: right;\n",
       "    }\n",
       "</style>\n",
       "<table border=\"1\" class=\"dataframe\">\n",
       "  <thead>\n",
       "    <tr style=\"text-align: right;\">\n",
       "      <th></th>\n",
       "      <th>Id</th>\n",
       "      <th>DistrictId</th>\n",
       "      <th>Rooms</th>\n",
       "      <th>Square</th>\n",
       "      <th>LifeSquare</th>\n",
       "      <th>KitchenSquare</th>\n",
       "      <th>Floor</th>\n",
       "      <th>HouseFloor</th>\n",
       "      <th>HouseYear</th>\n",
       "      <th>Ecology_1</th>\n",
       "      <th>Ecology_2</th>\n",
       "      <th>Ecology_3</th>\n",
       "      <th>Social_1</th>\n",
       "      <th>Social_2</th>\n",
       "      <th>Social_3</th>\n",
       "      <th>Healthcare_1</th>\n",
       "      <th>Helthcare_2</th>\n",
       "      <th>Shops_1</th>\n",
       "      <th>Shops_2</th>\n",
       "      <th>Price</th>\n",
       "    </tr>\n",
       "  </thead>\n",
       "  <tbody>\n",
       "    <tr>\n",
       "      <td>0</td>\n",
       "      <td>14038</td>\n",
       "      <td>35</td>\n",
       "      <td>2.0</td>\n",
       "      <td>47.981561</td>\n",
       "      <td>29.442751</td>\n",
       "      <td>6.0</td>\n",
       "      <td>7</td>\n",
       "      <td>9.0</td>\n",
       "      <td>1969</td>\n",
       "      <td>0.089040</td>\n",
       "      <td>B</td>\n",
       "      <td>B</td>\n",
       "      <td>33</td>\n",
       "      <td>7976</td>\n",
       "      <td>5</td>\n",
       "      <td>NaN</td>\n",
       "      <td>0</td>\n",
       "      <td>11</td>\n",
       "      <td>B</td>\n",
       "      <td>184966.930730</td>\n",
       "    </tr>\n",
       "    <tr>\n",
       "      <td>1</td>\n",
       "      <td>15053</td>\n",
       "      <td>41</td>\n",
       "      <td>3.0</td>\n",
       "      <td>65.683640</td>\n",
       "      <td>40.049543</td>\n",
       "      <td>8.0</td>\n",
       "      <td>7</td>\n",
       "      <td>9.0</td>\n",
       "      <td>1978</td>\n",
       "      <td>0.000070</td>\n",
       "      <td>B</td>\n",
       "      <td>B</td>\n",
       "      <td>46</td>\n",
       "      <td>10309</td>\n",
       "      <td>1</td>\n",
       "      <td>240.0</td>\n",
       "      <td>1</td>\n",
       "      <td>16</td>\n",
       "      <td>B</td>\n",
       "      <td>300009.450063</td>\n",
       "    </tr>\n",
       "    <tr>\n",
       "      <td>2</td>\n",
       "      <td>4765</td>\n",
       "      <td>53</td>\n",
       "      <td>2.0</td>\n",
       "      <td>44.947953</td>\n",
       "      <td>29.197612</td>\n",
       "      <td>0.0</td>\n",
       "      <td>8</td>\n",
       "      <td>12.0</td>\n",
       "      <td>1968</td>\n",
       "      <td>0.049637</td>\n",
       "      <td>B</td>\n",
       "      <td>B</td>\n",
       "      <td>34</td>\n",
       "      <td>7759</td>\n",
       "      <td>0</td>\n",
       "      <td>229.0</td>\n",
       "      <td>1</td>\n",
       "      <td>3</td>\n",
       "      <td>B</td>\n",
       "      <td>220925.908524</td>\n",
       "    </tr>\n",
       "    <tr>\n",
       "      <td>3</td>\n",
       "      <td>5809</td>\n",
       "      <td>58</td>\n",
       "      <td>2.0</td>\n",
       "      <td>53.352981</td>\n",
       "      <td>52.731512</td>\n",
       "      <td>9.0</td>\n",
       "      <td>8</td>\n",
       "      <td>17.0</td>\n",
       "      <td>1977</td>\n",
       "      <td>0.437885</td>\n",
       "      <td>B</td>\n",
       "      <td>B</td>\n",
       "      <td>23</td>\n",
       "      <td>5735</td>\n",
       "      <td>3</td>\n",
       "      <td>1084.0</td>\n",
       "      <td>0</td>\n",
       "      <td>5</td>\n",
       "      <td>B</td>\n",
       "      <td>175616.227217</td>\n",
       "    </tr>\n",
       "    <tr>\n",
       "      <td>4</td>\n",
       "      <td>10783</td>\n",
       "      <td>99</td>\n",
       "      <td>1.0</td>\n",
       "      <td>39.649192</td>\n",
       "      <td>23.776169</td>\n",
       "      <td>7.0</td>\n",
       "      <td>11</td>\n",
       "      <td>12.0</td>\n",
       "      <td>1976</td>\n",
       "      <td>0.012339</td>\n",
       "      <td>B</td>\n",
       "      <td>B</td>\n",
       "      <td>35</td>\n",
       "      <td>5776</td>\n",
       "      <td>1</td>\n",
       "      <td>2078.0</td>\n",
       "      <td>2</td>\n",
       "      <td>4</td>\n",
       "      <td>B</td>\n",
       "      <td>150226.531644</td>\n",
       "    </tr>\n",
       "  </tbody>\n",
       "</table>\n",
       "</div>"
      ],
      "text/plain": [
       "      Id  DistrictId  Rooms     Square  LifeSquare  KitchenSquare  Floor  \\\n",
       "0  14038          35    2.0  47.981561   29.442751            6.0      7   \n",
       "1  15053          41    3.0  65.683640   40.049543            8.0      7   \n",
       "2   4765          53    2.0  44.947953   29.197612            0.0      8   \n",
       "3   5809          58    2.0  53.352981   52.731512            9.0      8   \n",
       "4  10783          99    1.0  39.649192   23.776169            7.0     11   \n",
       "\n",
       "   HouseFloor  HouseYear  Ecology_1 Ecology_2 Ecology_3  Social_1  Social_2  \\\n",
       "0         9.0       1969   0.089040         B         B        33      7976   \n",
       "1         9.0       1978   0.000070         B         B        46     10309   \n",
       "2        12.0       1968   0.049637         B         B        34      7759   \n",
       "3        17.0       1977   0.437885         B         B        23      5735   \n",
       "4        12.0       1976   0.012339         B         B        35      5776   \n",
       "\n",
       "   Social_3  Healthcare_1  Helthcare_2  Shops_1 Shops_2          Price  \n",
       "0         5           NaN            0       11       B  184966.930730  \n",
       "1         1         240.0            1       16       B  300009.450063  \n",
       "2         0         229.0            1        3       B  220925.908524  \n",
       "3         3        1084.0            0        5       B  175616.227217  \n",
       "4         1        2078.0            2        4       B  150226.531644  "
      ]
     },
     "execution_count": 6,
     "metadata": {},
     "output_type": "execute_result"
    }
   ],
   "source": [
    "train_data.head()"
   ]
  },
  {
   "cell_type": "code",
   "execution_count": 7,
   "metadata": {},
   "outputs": [
    {
     "name": "stdout",
     "output_type": "stream",
     "text": [
      "<class 'pandas.core.frame.DataFrame'>\n",
      "RangeIndex: 10000 entries, 0 to 9999\n",
      "Data columns (total 20 columns):\n",
      "Id               10000 non-null int64\n",
      "DistrictId       10000 non-null int64\n",
      "Rooms            10000 non-null float64\n",
      "Square           10000 non-null float64\n",
      "LifeSquare       7887 non-null float64\n",
      "KitchenSquare    10000 non-null float64\n",
      "Floor            10000 non-null int64\n",
      "HouseFloor       10000 non-null float64\n",
      "HouseYear        10000 non-null int64\n",
      "Ecology_1        10000 non-null float64\n",
      "Ecology_2        10000 non-null object\n",
      "Ecology_3        10000 non-null object\n",
      "Social_1         10000 non-null int64\n",
      "Social_2         10000 non-null int64\n",
      "Social_3         10000 non-null int64\n",
      "Healthcare_1     5202 non-null float64\n",
      "Helthcare_2      10000 non-null int64\n",
      "Shops_1          10000 non-null int64\n",
      "Shops_2          10000 non-null object\n",
      "Price            10000 non-null float64\n",
      "dtypes: float64(8), int64(9), object(3)\n",
      "memory usage: 1.5+ MB\n"
     ]
    }
   ],
   "source": [
    "train_data.info()"
   ]
  },
  {
   "cell_type": "markdown",
   "metadata": {},
   "source": [
    "Объединяем в единый DataFrame"
   ]
  },
  {
   "cell_type": "code",
   "execution_count": 8,
   "metadata": {},
   "outputs": [],
   "source": [
    "df = pd.concat([train_data, test_data], axis=0)"
   ]
  },
  {
   "cell_type": "code",
   "execution_count": 9,
   "metadata": {},
   "outputs": [
    {
     "data": {
      "text/plain": [
       "False    10000\n",
       "True      5000\n",
       "Name: Price, dtype: int64"
      ]
     },
     "execution_count": 9,
     "metadata": {},
     "output_type": "execute_result"
    }
   ],
   "source": [
    "pd.isna(df['Price']).value_counts()"
   ]
  },
  {
   "cell_type": "markdown",
   "metadata": {},
   "source": [
    "### Очистка от выбросок и некорректных данных"
   ]
  },
  {
   "cell_type": "code",
   "execution_count": 10,
   "metadata": {},
   "outputs": [],
   "source": [
    "# fig = sns.pairplot(train_data.select_dtypes(include=['float64', 'int64']))\n",
    "# fig.savefig('pairplot.png')"
   ]
  },
  {
   "cell_type": "code",
   "execution_count": 11,
   "metadata": {},
   "outputs": [
    {
     "data": {
      "text/html": [
       "<div>\n",
       "<style scoped>\n",
       "    .dataframe tbody tr th:only-of-type {\n",
       "        vertical-align: middle;\n",
       "    }\n",
       "\n",
       "    .dataframe tbody tr th {\n",
       "        vertical-align: top;\n",
       "    }\n",
       "\n",
       "    .dataframe thead th {\n",
       "        text-align: right;\n",
       "    }\n",
       "</style>\n",
       "<table border=\"1\" class=\"dataframe\">\n",
       "  <thead>\n",
       "    <tr style=\"text-align: right;\">\n",
       "      <th></th>\n",
       "      <th>DistrictId</th>\n",
       "      <th>Ecology_1</th>\n",
       "      <th>Ecology_2</th>\n",
       "      <th>Ecology_3</th>\n",
       "      <th>Floor</th>\n",
       "      <th>Healthcare_1</th>\n",
       "      <th>Helthcare_2</th>\n",
       "      <th>HouseFloor</th>\n",
       "      <th>HouseYear</th>\n",
       "      <th>Id</th>\n",
       "      <th>KitchenSquare</th>\n",
       "      <th>LifeSquare</th>\n",
       "      <th>Price</th>\n",
       "      <th>Rooms</th>\n",
       "      <th>Shops_1</th>\n",
       "      <th>Shops_2</th>\n",
       "      <th>Social_1</th>\n",
       "      <th>Social_2</th>\n",
       "      <th>Social_3</th>\n",
       "      <th>Square</th>\n",
       "    </tr>\n",
       "  </thead>\n",
       "  <tbody>\n",
       "    <tr>\n",
       "      <td>1497</td>\n",
       "      <td>109</td>\n",
       "      <td>0.136330</td>\n",
       "      <td>B</td>\n",
       "      <td>B</td>\n",
       "      <td>9</td>\n",
       "      <td>262.0</td>\n",
       "      <td>3</td>\n",
       "      <td>12.0</td>\n",
       "      <td>20052011</td>\n",
       "      <td>10814</td>\n",
       "      <td>9.0</td>\n",
       "      <td>20.239714</td>\n",
       "      <td>254084.534396</td>\n",
       "      <td>1.0</td>\n",
       "      <td>6</td>\n",
       "      <td>B</td>\n",
       "      <td>30</td>\n",
       "      <td>6141</td>\n",
       "      <td>10</td>\n",
       "      <td>37.265070</td>\n",
       "    </tr>\n",
       "    <tr>\n",
       "      <td>4189</td>\n",
       "      <td>147</td>\n",
       "      <td>0.319809</td>\n",
       "      <td>B</td>\n",
       "      <td>B</td>\n",
       "      <td>4</td>\n",
       "      <td>2857.0</td>\n",
       "      <td>5</td>\n",
       "      <td>9.0</td>\n",
       "      <td>4968</td>\n",
       "      <td>11607</td>\n",
       "      <td>5.0</td>\n",
       "      <td>28.360393</td>\n",
       "      <td>243028.603096</td>\n",
       "      <td>2.0</td>\n",
       "      <td>8</td>\n",
       "      <td>B</td>\n",
       "      <td>25</td>\n",
       "      <td>4756</td>\n",
       "      <td>16</td>\n",
       "      <td>44.791836</td>\n",
       "    </tr>\n",
       "  </tbody>\n",
       "</table>\n",
       "</div>"
      ],
      "text/plain": [
       "      DistrictId  Ecology_1 Ecology_2 Ecology_3  Floor  Healthcare_1  \\\n",
       "1497         109   0.136330         B         B      9         262.0   \n",
       "4189         147   0.319809         B         B      4        2857.0   \n",
       "\n",
       "      Helthcare_2  HouseFloor  HouseYear     Id  KitchenSquare  LifeSquare  \\\n",
       "1497            3        12.0   20052011  10814            9.0   20.239714   \n",
       "4189            5         9.0       4968  11607            5.0   28.360393   \n",
       "\n",
       "              Price  Rooms  Shops_1 Shops_2  Social_1  Social_2  Social_3  \\\n",
       "1497  254084.534396    1.0        6       B        30      6141        10   \n",
       "4189  243028.603096    2.0        8       B        25      4756        16   \n",
       "\n",
       "         Square  \n",
       "1497  37.265070  \n",
       "4189  44.791836  "
      ]
     },
     "execution_count": 11,
     "metadata": {},
     "output_type": "execute_result"
    }
   ],
   "source": [
    "df[df.HouseYear> 2020]"
   ]
  },
  {
   "cell_type": "code",
   "execution_count": 12,
   "metadata": {},
   "outputs": [],
   "source": [
    "df.loc[df.HouseYear == 20052011,'HouseYear']=2011"
   ]
  },
  {
   "cell_type": "code",
   "execution_count": 13,
   "metadata": {},
   "outputs": [],
   "source": [
    "df.loc[df.HouseYear == 4968,'HouseYear']=1977"
   ]
  },
  {
   "cell_type": "code",
   "execution_count": 14,
   "metadata": {},
   "outputs": [
    {
     "data": {
      "text/plain": [
       "0    1977\n",
       "dtype: int64"
      ]
     },
     "execution_count": 14,
     "metadata": {},
     "output_type": "execute_result"
    }
   ],
   "source": [
    "df.HouseYear.mode()"
   ]
  },
  {
   "cell_type": "code",
   "execution_count": 15,
   "metadata": {},
   "outputs": [
    {
     "data": {
      "text/plain": [
       "<matplotlib.collections.PathCollection at 0x2b850c28788>"
      ]
     },
     "execution_count": 15,
     "metadata": {},
     "output_type": "execute_result"
    },
    {
     "data": {
      "image/png": "[encoded data removed]",
      "text/plain": [
       "<Figure size 432x288 with 1 Axes>"
      ]
     },
     "metadata": {
      "needs_background": "light"
     },
     "output_type": "display_data"
    }
   ],
   "source": [
    " plt.scatter(df.Floor, df.HouseFloor)"
   ]
  },
  {
   "cell_type": "code",
   "execution_count": 16,
   "metadata": {},
   "outputs": [],
   "source": [
    "df.loc[df.Floor>70, 'Floor']=df.loc[df.Floor>70, 'HouseFloor']"
   ]
  },
  {
   "cell_type": "code",
   "execution_count": 17,
   "metadata": {},
   "outputs": [
    {
     "data": {
      "text/html": [
       "<div>\n",
       "<style scoped>\n",
       "    .dataframe tbody tr th:only-of-type {\n",
       "        vertical-align: middle;\n",
       "    }\n",
       "\n",
       "    .dataframe tbody tr th {\n",
       "        vertical-align: top;\n",
       "    }\n",
       "\n",
       "    .dataframe thead th {\n",
       "        text-align: right;\n",
       "    }\n",
       "</style>\n",
       "<table border=\"1\" class=\"dataframe\">\n",
       "  <thead>\n",
       "    <tr style=\"text-align: right;\">\n",
       "      <th></th>\n",
       "      <th>DistrictId</th>\n",
       "      <th>Ecology_1</th>\n",
       "      <th>Ecology_2</th>\n",
       "      <th>Ecology_3</th>\n",
       "      <th>Floor</th>\n",
       "      <th>Healthcare_1</th>\n",
       "      <th>Helthcare_2</th>\n",
       "      <th>HouseFloor</th>\n",
       "      <th>HouseYear</th>\n",
       "      <th>Id</th>\n",
       "      <th>KitchenSquare</th>\n",
       "      <th>LifeSquare</th>\n",
       "      <th>Price</th>\n",
       "      <th>Rooms</th>\n",
       "      <th>Shops_1</th>\n",
       "      <th>Shops_2</th>\n",
       "      <th>Social_1</th>\n",
       "      <th>Social_2</th>\n",
       "      <th>Social_3</th>\n",
       "      <th>Square</th>\n",
       "    </tr>\n",
       "  </thead>\n",
       "  <tbody>\n",
       "    <tr>\n",
       "      <td>6131</td>\n",
       "      <td>5</td>\n",
       "      <td>0.150818</td>\n",
       "      <td>B</td>\n",
       "      <td>B</td>\n",
       "      <td>6.0</td>\n",
       "      <td>2643.0</td>\n",
       "      <td>4</td>\n",
       "      <td>99.0</td>\n",
       "      <td>1977</td>\n",
       "      <td>10806</td>\n",
       "      <td>1.0</td>\n",
       "      <td>48.709601</td>\n",
       "      <td>296127.115515</td>\n",
       "      <td>1.0</td>\n",
       "      <td>5</td>\n",
       "      <td>B</td>\n",
       "      <td>16</td>\n",
       "      <td>3433</td>\n",
       "      <td>4</td>\n",
       "      <td>51.944587</td>\n",
       "    </tr>\n",
       "    <tr>\n",
       "      <td>8599</td>\n",
       "      <td>74</td>\n",
       "      <td>0.075779</td>\n",
       "      <td>B</td>\n",
       "      <td>B</td>\n",
       "      <td>5.0</td>\n",
       "      <td>NaN</td>\n",
       "      <td>0</td>\n",
       "      <td>99.0</td>\n",
       "      <td>1977</td>\n",
       "      <td>9300</td>\n",
       "      <td>9.0</td>\n",
       "      <td>74.579809</td>\n",
       "      <td>243329.912579</td>\n",
       "      <td>2.0</td>\n",
       "      <td>2</td>\n",
       "      <td>B</td>\n",
       "      <td>6</td>\n",
       "      <td>1437</td>\n",
       "      <td>3</td>\n",
       "      <td>71.747869</td>\n",
       "    </tr>\n",
       "    <tr>\n",
       "      <td>8854</td>\n",
       "      <td>30</td>\n",
       "      <td>0.000078</td>\n",
       "      <td>B</td>\n",
       "      <td>B</td>\n",
       "      <td>8.0</td>\n",
       "      <td>1046.0</td>\n",
       "      <td>3</td>\n",
       "      <td>117.0</td>\n",
       "      <td>1977</td>\n",
       "      <td>78</td>\n",
       "      <td>1.0</td>\n",
       "      <td>66.811789</td>\n",
       "      <td>207248.370520</td>\n",
       "      <td>2.0</td>\n",
       "      <td>23</td>\n",
       "      <td>B</td>\n",
       "      <td>22</td>\n",
       "      <td>6398</td>\n",
       "      <td>141</td>\n",
       "      <td>65.773749</td>\n",
       "    </tr>\n",
       "    <tr>\n",
       "      <td>651</td>\n",
       "      <td>27</td>\n",
       "      <td>0.072158</td>\n",
       "      <td>B</td>\n",
       "      <td>B</td>\n",
       "      <td>18.0</td>\n",
       "      <td>NaN</td>\n",
       "      <td>0</td>\n",
       "      <td>99.0</td>\n",
       "      <td>1977</td>\n",
       "      <td>15864</td>\n",
       "      <td>9.0</td>\n",
       "      <td>47.098813</td>\n",
       "      <td>NaN</td>\n",
       "      <td>3.0</td>\n",
       "      <td>0</td>\n",
       "      <td>A</td>\n",
       "      <td>2</td>\n",
       "      <td>629</td>\n",
       "      <td>1</td>\n",
       "      <td>47.722835</td>\n",
       "    </tr>\n",
       "  </tbody>\n",
       "</table>\n",
       "</div>"
      ],
      "text/plain": [
       "      DistrictId  Ecology_1 Ecology_2 Ecology_3  Floor  Healthcare_1  \\\n",
       "6131           5   0.150818         B         B    6.0        2643.0   \n",
       "8599          74   0.075779         B         B    5.0           NaN   \n",
       "8854          30   0.000078         B         B    8.0        1046.0   \n",
       "651           27   0.072158         B         B   18.0           NaN   \n",
       "\n",
       "      Helthcare_2  HouseFloor  HouseYear     Id  KitchenSquare  LifeSquare  \\\n",
       "6131            4        99.0       1977  10806            1.0   48.709601   \n",
       "8599            0        99.0       1977   9300            9.0   74.579809   \n",
       "8854            3       117.0       1977     78            1.0   66.811789   \n",
       "651             0        99.0       1977  15864            9.0   47.098813   \n",
       "\n",
       "              Price  Rooms  Shops_1 Shops_2  Social_1  Social_2  Social_3  \\\n",
       "6131  296127.115515    1.0        5       B        16      3433         4   \n",
       "8599  243329.912579    2.0        2       B         6      1437         3   \n",
       "8854  207248.370520    2.0       23       B        22      6398       141   \n",
       "651             NaN    3.0        0       A         2       629         1   \n",
       "\n",
       "         Square  \n",
       "6131  51.944587  \n",
       "8599  71.747869  \n",
       "8854  65.773749  \n",
       "651   47.722835  "
      ]
     },
     "execution_count": 17,
     "metadata": {},
     "output_type": "execute_result"
    }
   ],
   "source": [
    "df.loc[df.HouseFloor>80]"
   ]
  },
  {
   "cell_type": "code",
   "execution_count": 18,
   "metadata": {},
   "outputs": [
    {
     "data": {
      "text/plain": [
       "17.0"
      ]
     },
     "execution_count": 18,
     "metadata": {},
     "output_type": "execute_result"
    }
   ],
   "source": [
    "df.loc[df.Floor == 18, 'HouseFloor'].median()"
   ]
  },
  {
   "cell_type": "code",
   "execution_count": 19,
   "metadata": {},
   "outputs": [
    {
     "data": {
      "text/plain": [
       "6131     6.0\n",
       "8599     5.0\n",
       "8854     8.0\n",
       "651     18.0\n",
       "Name: Floor, dtype: float64"
      ]
     },
     "execution_count": 19,
     "metadata": {},
     "output_type": "execute_result"
    }
   ],
   "source": [
    "df.loc[df.HouseFloor>80, 'Floor']"
   ]
  },
  {
   "cell_type": "code",
   "execution_count": 20,
   "metadata": {},
   "outputs": [],
   "source": [
    "median_house_floor = df.groupby('Floor').HouseFloor.median()"
   ]
  },
  {
   "cell_type": "code",
   "execution_count": 21,
   "metadata": {},
   "outputs": [],
   "source": [
    "df.loc[df.HouseFloor>80, 'HouseFloor'] = list(median_house_floor.loc[df.loc[df.HouseFloor>80, 'Floor']])"
   ]
  },
  {
   "cell_type": "code",
   "execution_count": 22,
   "metadata": {},
   "outputs": [
    {
     "data": {
      "text/html": [
       "<div>\n",
       "<style scoped>\n",
       "    .dataframe tbody tr th:only-of-type {\n",
       "        vertical-align: middle;\n",
       "    }\n",
       "\n",
       "    .dataframe tbody tr th {\n",
       "        vertical-align: top;\n",
       "    }\n",
       "\n",
       "    .dataframe thead th {\n",
       "        text-align: right;\n",
       "    }\n",
       "</style>\n",
       "<table border=\"1\" class=\"dataframe\">\n",
       "  <thead>\n",
       "    <tr style=\"text-align: right;\">\n",
       "      <th></th>\n",
       "      <th>DistrictId</th>\n",
       "      <th>Ecology_1</th>\n",
       "      <th>Ecology_2</th>\n",
       "      <th>Ecology_3</th>\n",
       "      <th>Floor</th>\n",
       "      <th>Healthcare_1</th>\n",
       "      <th>Helthcare_2</th>\n",
       "      <th>HouseFloor</th>\n",
       "      <th>HouseYear</th>\n",
       "      <th>Id</th>\n",
       "      <th>KitchenSquare</th>\n",
       "      <th>LifeSquare</th>\n",
       "      <th>Price</th>\n",
       "      <th>Rooms</th>\n",
       "      <th>Shops_1</th>\n",
       "      <th>Shops_2</th>\n",
       "      <th>Social_1</th>\n",
       "      <th>Social_2</th>\n",
       "      <th>Social_3</th>\n",
       "      <th>Square</th>\n",
       "    </tr>\n",
       "  </thead>\n",
       "  <tbody>\n",
       "    <tr>\n",
       "      <td>7</td>\n",
       "      <td>74</td>\n",
       "      <td>0.075779</td>\n",
       "      <td>B</td>\n",
       "      <td>B</td>\n",
       "      <td>14.0</td>\n",
       "      <td>NaN</td>\n",
       "      <td>0</td>\n",
       "      <td>0.0</td>\n",
       "      <td>1977</td>\n",
       "      <td>11993</td>\n",
       "      <td>0.0</td>\n",
       "      <td>NaN</td>\n",
       "      <td>221244.156664</td>\n",
       "      <td>2.0</td>\n",
       "      <td>2</td>\n",
       "      <td>B</td>\n",
       "      <td>6</td>\n",
       "      <td>1437</td>\n",
       "      <td>3</td>\n",
       "      <td>80.312926</td>\n",
       "    </tr>\n",
       "    <tr>\n",
       "      <td>14</td>\n",
       "      <td>27</td>\n",
       "      <td>0.072158</td>\n",
       "      <td>B</td>\n",
       "      <td>B</td>\n",
       "      <td>5.0</td>\n",
       "      <td>NaN</td>\n",
       "      <td>0</td>\n",
       "      <td>4.0</td>\n",
       "      <td>1977</td>\n",
       "      <td>10953</td>\n",
       "      <td>1.0</td>\n",
       "      <td>52.408027</td>\n",
       "      <td>140647.565937</td>\n",
       "      <td>1.0</td>\n",
       "      <td>0</td>\n",
       "      <td>A</td>\n",
       "      <td>2</td>\n",
       "      <td>629</td>\n",
       "      <td>1</td>\n",
       "      <td>53.769097</td>\n",
       "    </tr>\n",
       "    <tr>\n",
       "      <td>16</td>\n",
       "      <td>27</td>\n",
       "      <td>0.051815</td>\n",
       "      <td>B</td>\n",
       "      <td>B</td>\n",
       "      <td>6.0</td>\n",
       "      <td>NaN</td>\n",
       "      <td>0</td>\n",
       "      <td>5.0</td>\n",
       "      <td>1983</td>\n",
       "      <td>2119</td>\n",
       "      <td>5.0</td>\n",
       "      <td>31.993964</td>\n",
       "      <td>117000.381287</td>\n",
       "      <td>2.0</td>\n",
       "      <td>0</td>\n",
       "      <td>B</td>\n",
       "      <td>5</td>\n",
       "      <td>1227</td>\n",
       "      <td>0</td>\n",
       "      <td>49.360648</td>\n",
       "    </tr>\n",
       "    <tr>\n",
       "      <td>21</td>\n",
       "      <td>27</td>\n",
       "      <td>0.211401</td>\n",
       "      <td>B</td>\n",
       "      <td>B</td>\n",
       "      <td>15.0</td>\n",
       "      <td>NaN</td>\n",
       "      <td>0</td>\n",
       "      <td>1.0</td>\n",
       "      <td>1977</td>\n",
       "      <td>11935</td>\n",
       "      <td>1.0</td>\n",
       "      <td>NaN</td>\n",
       "      <td>127200.026511</td>\n",
       "      <td>2.0</td>\n",
       "      <td>1</td>\n",
       "      <td>B</td>\n",
       "      <td>9</td>\n",
       "      <td>1892</td>\n",
       "      <td>0</td>\n",
       "      <td>64.711835</td>\n",
       "    </tr>\n",
       "    <tr>\n",
       "      <td>23</td>\n",
       "      <td>54</td>\n",
       "      <td>0.006076</td>\n",
       "      <td>B</td>\n",
       "      <td>B</td>\n",
       "      <td>2.0</td>\n",
       "      <td>645.0</td>\n",
       "      <td>6</td>\n",
       "      <td>0.0</td>\n",
       "      <td>1977</td>\n",
       "      <td>6641</td>\n",
       "      <td>0.0</td>\n",
       "      <td>NaN</td>\n",
       "      <td>571069.052600</td>\n",
       "      <td>3.0</td>\n",
       "      <td>6</td>\n",
       "      <td>B</td>\n",
       "      <td>30</td>\n",
       "      <td>5285</td>\n",
       "      <td>0</td>\n",
       "      <td>118.907612</td>\n",
       "    </tr>\n",
       "    <tr>\n",
       "      <td>...</td>\n",
       "      <td>...</td>\n",
       "      <td>...</td>\n",
       "      <td>...</td>\n",
       "      <td>...</td>\n",
       "      <td>...</td>\n",
       "      <td>...</td>\n",
       "      <td>...</td>\n",
       "      <td>...</td>\n",
       "      <td>...</td>\n",
       "      <td>...</td>\n",
       "      <td>...</td>\n",
       "      <td>...</td>\n",
       "      <td>...</td>\n",
       "      <td>...</td>\n",
       "      <td>...</td>\n",
       "      <td>...</td>\n",
       "      <td>...</td>\n",
       "      <td>...</td>\n",
       "      <td>...</td>\n",
       "      <td>...</td>\n",
       "    </tr>\n",
       "    <tr>\n",
       "      <td>4976</td>\n",
       "      <td>95</td>\n",
       "      <td>0.000699</td>\n",
       "      <td>B</td>\n",
       "      <td>B</td>\n",
       "      <td>6.0</td>\n",
       "      <td>4129.0</td>\n",
       "      <td>0</td>\n",
       "      <td>0.0</td>\n",
       "      <td>1977</td>\n",
       "      <td>4723</td>\n",
       "      <td>0.0</td>\n",
       "      <td>NaN</td>\n",
       "      <td>NaN</td>\n",
       "      <td>1.0</td>\n",
       "      <td>3</td>\n",
       "      <td>B</td>\n",
       "      <td>14</td>\n",
       "      <td>3369</td>\n",
       "      <td>24</td>\n",
       "      <td>45.542940</td>\n",
       "    </tr>\n",
       "    <tr>\n",
       "      <td>4989</td>\n",
       "      <td>39</td>\n",
       "      <td>0.428826</td>\n",
       "      <td>B</td>\n",
       "      <td>B</td>\n",
       "      <td>10.0</td>\n",
       "      <td>730.0</td>\n",
       "      <td>0</td>\n",
       "      <td>9.0</td>\n",
       "      <td>1972</td>\n",
       "      <td>2591</td>\n",
       "      <td>6.0</td>\n",
       "      <td>30.191691</td>\n",
       "      <td>NaN</td>\n",
       "      <td>2.0</td>\n",
       "      <td>2</td>\n",
       "      <td>B</td>\n",
       "      <td>25</td>\n",
       "      <td>5011</td>\n",
       "      <td>8</td>\n",
       "      <td>44.203592</td>\n",
       "    </tr>\n",
       "    <tr>\n",
       "      <td>4993</td>\n",
       "      <td>113</td>\n",
       "      <td>0.307467</td>\n",
       "      <td>B</td>\n",
       "      <td>A</td>\n",
       "      <td>6.0</td>\n",
       "      <td>325.0</td>\n",
       "      <td>2</td>\n",
       "      <td>5.0</td>\n",
       "      <td>1969</td>\n",
       "      <td>14562</td>\n",
       "      <td>5.0</td>\n",
       "      <td>27.058739</td>\n",
       "      <td>NaN</td>\n",
       "      <td>2.0</td>\n",
       "      <td>5</td>\n",
       "      <td>B</td>\n",
       "      <td>30</td>\n",
       "      <td>5048</td>\n",
       "      <td>9</td>\n",
       "      <td>46.627882</td>\n",
       "    </tr>\n",
       "    <tr>\n",
       "      <td>4997</td>\n",
       "      <td>12</td>\n",
       "      <td>0.090799</td>\n",
       "      <td>B</td>\n",
       "      <td>B</td>\n",
       "      <td>23.0</td>\n",
       "      <td>NaN</td>\n",
       "      <td>5</td>\n",
       "      <td>22.0</td>\n",
       "      <td>1989</td>\n",
       "      <td>5783</td>\n",
       "      <td>9.0</td>\n",
       "      <td>48.282625</td>\n",
       "      <td>NaN</td>\n",
       "      <td>3.0</td>\n",
       "      <td>15</td>\n",
       "      <td>B</td>\n",
       "      <td>74</td>\n",
       "      <td>19083</td>\n",
       "      <td>2</td>\n",
       "      <td>77.842178</td>\n",
       "    </tr>\n",
       "    <tr>\n",
       "      <td>4998</td>\n",
       "      <td>62</td>\n",
       "      <td>0.072158</td>\n",
       "      <td>B</td>\n",
       "      <td>B</td>\n",
       "      <td>4.0</td>\n",
       "      <td>NaN</td>\n",
       "      <td>0</td>\n",
       "      <td>0.0</td>\n",
       "      <td>1977</td>\n",
       "      <td>4780</td>\n",
       "      <td>0.0</td>\n",
       "      <td>NaN</td>\n",
       "      <td>NaN</td>\n",
       "      <td>2.0</td>\n",
       "      <td>0</td>\n",
       "      <td>A</td>\n",
       "      <td>2</td>\n",
       "      <td>629</td>\n",
       "      <td>1</td>\n",
       "      <td>81.305222</td>\n",
       "    </tr>\n",
       "  </tbody>\n",
       "</table>\n",
       "<p>2709 rows × 20 columns</p>\n",
       "</div>"
      ],
      "text/plain": [
       "      DistrictId  Ecology_1 Ecology_2 Ecology_3  Floor  Healthcare_1  \\\n",
       "7             74   0.075779         B         B   14.0           NaN   \n",
       "14            27   0.072158         B         B    5.0           NaN   \n",
       "16            27   0.051815         B         B    6.0           NaN   \n",
       "21            27   0.211401         B         B   15.0           NaN   \n",
       "23            54   0.006076         B         B    2.0         645.0   \n",
       "...          ...        ...       ...       ...    ...           ...   \n",
       "4976          95   0.000699         B         B    6.0        4129.0   \n",
       "4989          39   0.428826         B         B   10.0         730.0   \n",
       "4993         113   0.307467         B         A    6.0         325.0   \n",
       "4997          12   0.090799         B         B   23.0           NaN   \n",
       "4998          62   0.072158         B         B    4.0           NaN   \n",
       "\n",
       "      Helthcare_2  HouseFloor  HouseYear     Id  KitchenSquare  LifeSquare  \\\n",
       "7               0         0.0       1977  11993            0.0         NaN   \n",
       "14              0         4.0       1977  10953            1.0   52.408027   \n",
       "16              0         5.0       1983   2119            5.0   31.993964   \n",
       "21              0         1.0       1977  11935            1.0         NaN   \n",
       "23              6         0.0       1977   6641            0.0         NaN   \n",
       "...           ...         ...        ...    ...            ...         ...   \n",
       "4976            0         0.0       1977   4723            0.0         NaN   \n",
       "4989            0         9.0       1972   2591            6.0   30.191691   \n",
       "4993            2         5.0       1969  14562            5.0   27.058739   \n",
       "4997            5        22.0       1989   5783            9.0   48.282625   \n",
       "4998            0         0.0       1977   4780            0.0         NaN   \n",
       "\n",
       "              Price  Rooms  Shops_1 Shops_2  Social_1  Social_2  Social_3  \\\n",
       "7     221244.156664    2.0        2       B         6      1437         3   \n",
       "14    140647.565937    1.0        0       A         2       629         1   \n",
       "16    117000.381287    2.0        0       B         5      1227         0   \n",
       "21    127200.026511    2.0        1       B         9      1892         0   \n",
       "23    571069.052600    3.0        6       B        30      5285         0   \n",
       "...             ...    ...      ...     ...       ...       ...       ...   \n",
       "4976            NaN    1.0        3       B        14      3369        24   \n",
       "4989            NaN    2.0        2       B        25      5011         8   \n",
       "4993            NaN    2.0        5       B        30      5048         9   \n",
       "4997            NaN    3.0       15       B        74     19083         2   \n",
       "4998            NaN    2.0        0       A         2       629         1   \n",
       "\n",
       "          Square  \n",
       "7      80.312926  \n",
       "14     53.769097  \n",
       "16     49.360648  \n",
       "21     64.711835  \n",
       "23    118.907612  \n",
       "...          ...  \n",
       "4976   45.542940  \n",
       "4989   44.203592  \n",
       "4993   46.627882  \n",
       "4997   77.842178  \n",
       "4998   81.305222  \n",
       "\n",
       "[2709 rows x 20 columns]"
      ]
     },
     "execution_count": 22,
     "metadata": {},
     "output_type": "execute_result"
    }
   ],
   "source": [
    "df.loc[df.Floor>df.HouseFloor]"
   ]
  },
  {
   "cell_type": "code",
   "execution_count": 23,
   "metadata": {},
   "outputs": [],
   "source": [
    "median_house_floor_correct = df[df.Floor<=df.HouseFloor].groupby('Floor').HouseFloor.median()"
   ]
  },
  {
   "cell_type": "code",
   "execution_count": 24,
   "metadata": {},
   "outputs": [],
   "source": [
    "df.loc[df.Floor>df.HouseFloor, 'HouseFloor'] = list(median_house_floor_correct.loc[df.loc[df.Floor>df.HouseFloor, 'Floor']])"
   ]
  },
  {
   "cell_type": "code",
   "execution_count": 25,
   "metadata": {},
   "outputs": [],
   "source": [
    "df.loc[pd.isna(df.HouseFloor), 'HouseFloor'] = list(median_house_floor.loc[df.loc[pd.isna(df.HouseFloor), 'Floor']])"
   ]
  },
  {
   "cell_type": "code",
   "execution_count": 26,
   "metadata": {},
   "outputs": [
    {
     "data": {
      "text/plain": [
       "<matplotlib.collections.PathCollection at 0x2b850d50208>"
      ]
     },
     "execution_count": 26,
     "metadata": {},
     "output_type": "execute_result"
    },
    {
     "data": {
      "image/png": "[encoded data removed]",
      "text/plain": [
       "<Figure size 432x288 with 1 Axes>"
      ]
     },
     "metadata": {
      "needs_background": "light"
     },
     "output_type": "display_data"
    }
   ],
   "source": [
    "plt.scatter(df.Rooms, df.Square)"
   ]
  },
  {
   "cell_type": "code",
   "execution_count": 27,
   "metadata": {},
   "outputs": [
    {
     "data": {
      "text/html": [
       "<div>\n",
       "<style scoped>\n",
       "    .dataframe tbody tr th:only-of-type {\n",
       "        vertical-align: middle;\n",
       "    }\n",
       "\n",
       "    .dataframe tbody tr th {\n",
       "        vertical-align: top;\n",
       "    }\n",
       "\n",
       "    .dataframe thead th {\n",
       "        text-align: right;\n",
       "    }\n",
       "</style>\n",
       "<table border=\"1\" class=\"dataframe\">\n",
       "  <thead>\n",
       "    <tr style=\"text-align: right;\">\n",
       "      <th></th>\n",
       "      <th>DistrictId</th>\n",
       "      <th>Ecology_1</th>\n",
       "      <th>Ecology_2</th>\n",
       "      <th>Ecology_3</th>\n",
       "      <th>Floor</th>\n",
       "      <th>Healthcare_1</th>\n",
       "      <th>Helthcare_2</th>\n",
       "      <th>HouseFloor</th>\n",
       "      <th>HouseYear</th>\n",
       "      <th>Id</th>\n",
       "      <th>KitchenSquare</th>\n",
       "      <th>LifeSquare</th>\n",
       "      <th>Price</th>\n",
       "      <th>Rooms</th>\n",
       "      <th>Shops_1</th>\n",
       "      <th>Shops_2</th>\n",
       "      <th>Social_1</th>\n",
       "      <th>Social_2</th>\n",
       "      <th>Social_3</th>\n",
       "      <th>Square</th>\n",
       "    </tr>\n",
       "  </thead>\n",
       "  <tbody>\n",
       "    <tr>\n",
       "      <td>377</td>\n",
       "      <td>57</td>\n",
       "      <td>0.090799</td>\n",
       "      <td>B</td>\n",
       "      <td>B</td>\n",
       "      <td>22.0</td>\n",
       "      <td>NaN</td>\n",
       "      <td>5</td>\n",
       "      <td>22.0</td>\n",
       "      <td>2002</td>\n",
       "      <td>5927</td>\n",
       "      <td>10.0</td>\n",
       "      <td>36.223072</td>\n",
       "      <td>317265.323792</td>\n",
       "      <td>10.0</td>\n",
       "      <td>15</td>\n",
       "      <td>B</td>\n",
       "      <td>74</td>\n",
       "      <td>19083</td>\n",
       "      <td>2</td>\n",
       "      <td>59.056975</td>\n",
       "    </tr>\n",
       "    <tr>\n",
       "      <td>1454</td>\n",
       "      <td>1</td>\n",
       "      <td>0.007122</td>\n",
       "      <td>B</td>\n",
       "      <td>B</td>\n",
       "      <td>17.0</td>\n",
       "      <td>NaN</td>\n",
       "      <td>0</td>\n",
       "      <td>17.0</td>\n",
       "      <td>2014</td>\n",
       "      <td>8491</td>\n",
       "      <td>7.0</td>\n",
       "      <td>21.779288</td>\n",
       "      <td>78364.616704</td>\n",
       "      <td>19.0</td>\n",
       "      <td>1</td>\n",
       "      <td>B</td>\n",
       "      <td>1</td>\n",
       "      <td>264</td>\n",
       "      <td>0</td>\n",
       "      <td>42.006046</td>\n",
       "    </tr>\n",
       "    <tr>\n",
       "      <td>8849</td>\n",
       "      <td>9</td>\n",
       "      <td>0.161532</td>\n",
       "      <td>B</td>\n",
       "      <td>B</td>\n",
       "      <td>3.0</td>\n",
       "      <td>30.0</td>\n",
       "      <td>2</td>\n",
       "      <td>9.0</td>\n",
       "      <td>1994</td>\n",
       "      <td>14865</td>\n",
       "      <td>10.0</td>\n",
       "      <td>38.420681</td>\n",
       "      <td>172329.270863</td>\n",
       "      <td>10.0</td>\n",
       "      <td>4</td>\n",
       "      <td>B</td>\n",
       "      <td>25</td>\n",
       "      <td>5648</td>\n",
       "      <td>1</td>\n",
       "      <td>60.871266</td>\n",
       "    </tr>\n",
       "    <tr>\n",
       "      <td>3398</td>\n",
       "      <td>111</td>\n",
       "      <td>0.093443</td>\n",
       "      <td>B</td>\n",
       "      <td>B</td>\n",
       "      <td>15.0</td>\n",
       "      <td>3300.0</td>\n",
       "      <td>2</td>\n",
       "      <td>17.0</td>\n",
       "      <td>1987</td>\n",
       "      <td>1435</td>\n",
       "      <td>8.0</td>\n",
       "      <td>32.528342</td>\n",
       "      <td>NaN</td>\n",
       "      <td>17.0</td>\n",
       "      <td>4</td>\n",
       "      <td>B</td>\n",
       "      <td>23</td>\n",
       "      <td>4635</td>\n",
       "      <td>5</td>\n",
       "      <td>52.866107</td>\n",
       "    </tr>\n",
       "  </tbody>\n",
       "</table>\n",
       "</div>"
      ],
      "text/plain": [
       "      DistrictId  Ecology_1 Ecology_2 Ecology_3  Floor  Healthcare_1  \\\n",
       "377           57   0.090799         B         B   22.0           NaN   \n",
       "1454           1   0.007122         B         B   17.0           NaN   \n",
       "8849           9   0.161532         B         B    3.0          30.0   \n",
       "3398         111   0.093443         B         B   15.0        3300.0   \n",
       "\n",
       "      Helthcare_2  HouseFloor  HouseYear     Id  KitchenSquare  LifeSquare  \\\n",
       "377             5        22.0       2002   5927           10.0   36.223072   \n",
       "1454            0        17.0       2014   8491            7.0   21.779288   \n",
       "8849            2         9.0       1994  14865           10.0   38.420681   \n",
       "3398            2        17.0       1987   1435            8.0   32.528342   \n",
       "\n",
       "              Price  Rooms  Shops_1 Shops_2  Social_1  Social_2  Social_3  \\\n",
       "377   317265.323792   10.0       15       B        74     19083         2   \n",
       "1454   78364.616704   19.0        1       B         1       264         0   \n",
       "8849  172329.270863   10.0        4       B        25      5648         1   \n",
       "3398            NaN   17.0        4       B        23      4635         5   \n",
       "\n",
       "         Square  \n",
       "377   59.056975  \n",
       "1454  42.006046  \n",
       "8849  60.871266  \n",
       "3398  52.866107  "
      ]
     },
     "execution_count": 27,
     "metadata": {},
     "output_type": "execute_result"
    }
   ],
   "source": [
    "df.loc[df.Rooms>6]"
   ]
  },
  {
   "cell_type": "code",
   "execution_count": 28,
   "metadata": {},
   "outputs": [],
   "source": [
    "#df.loc[(df.Square >= 42) & (df.Square <= 61)]\n",
    "#df.loc[df.Rooms==1].Square.describe()\n",
    "df.loc[df.Rooms>6, 'Rooms'] = 2"
   ]
  },
  {
   "cell_type": "code",
   "execution_count": 29,
   "metadata": {},
   "outputs": [
    {
     "data": {
      "text/plain": [
       "<matplotlib.collections.PathCollection at 0x2b850dc3dc8>"
      ]
     },
     "execution_count": 29,
     "metadata": {},
     "output_type": "execute_result"
    },
    {
     "data": {
      "image/png": "[encoded data removed]",
      "text/plain": [
       "<Figure size 432x288 with 1 Axes>"
      ]
     },
     "metadata": {
      "needs_background": "light"
     },
     "output_type": "display_data"
    }
   ],
   "source": [
    "plt.scatter(df.Rooms, df.Square)"
   ]
  },
  {
   "cell_type": "code",
   "execution_count": 30,
   "metadata": {},
   "outputs": [
    {
     "data": {
      "text/plain": [
       "count     15.000000\n",
       "mean     273.253282\n",
       "std      153.545229\n",
       "min      174.649522\n",
       "25%      188.186089\n",
       "50%      200.334539\n",
       "75%      249.549486\n",
       "max      641.065193\n",
       "Name: Square, dtype: float64"
      ]
     },
     "execution_count": 30,
     "metadata": {},
     "output_type": "execute_result"
    }
   ],
   "source": [
    "df.loc[df['Square'] > df['Square'].quantile(.999), 'Square' ].describe()"
   ]
  },
  {
   "cell_type": "code",
   "execution_count": 31,
   "metadata": {},
   "outputs": [],
   "source": [
    "df.loc[df['Square'] > df['Square'].quantile(.999), 'Square' ] = df['Square'].median()"
   ]
  },
  {
   "cell_type": "code",
   "execution_count": 32,
   "metadata": {},
   "outputs": [],
   "source": [
    "df.loc[df['Square'] < df['Square'].quantile(.001), 'Square' ] = df['Square'].median()"
   ]
  },
  {
   "cell_type": "code",
   "execution_count": 33,
   "metadata": {},
   "outputs": [
    {
     "data": {
      "text/plain": [
       "<matplotlib.collections.PathCollection at 0x2b850e37f08>"
      ]
     },
     "execution_count": 33,
     "metadata": {},
     "output_type": "execute_result"
    },
    {
     "data": {
      "image/png": "[encoded data removed]",
      "text/plain": [
       "<Figure size 432x288 with 1 Axes>"
      ]
     },
     "metadata": {
      "needs_background": "light"
     },
     "output_type": "display_data"
    }
   ],
   "source": [
    "plt.scatter(df.Rooms, df.Square)"
   ]
  },
  {
   "cell_type": "code",
   "execution_count": 34,
   "metadata": {},
   "outputs": [
    {
     "data": {
      "text/html": [
       "<div>\n",
       "<style scoped>\n",
       "    .dataframe tbody tr th:only-of-type {\n",
       "        vertical-align: middle;\n",
       "    }\n",
       "\n",
       "    .dataframe tbody tr th {\n",
       "        vertical-align: top;\n",
       "    }\n",
       "\n",
       "    .dataframe thead th {\n",
       "        text-align: right;\n",
       "    }\n",
       "</style>\n",
       "<table border=\"1\" class=\"dataframe\">\n",
       "  <thead>\n",
       "    <tr style=\"text-align: right;\">\n",
       "      <th></th>\n",
       "      <th>DistrictId</th>\n",
       "      <th>Ecology_1</th>\n",
       "      <th>Ecology_2</th>\n",
       "      <th>Ecology_3</th>\n",
       "      <th>Floor</th>\n",
       "      <th>Healthcare_1</th>\n",
       "      <th>Helthcare_2</th>\n",
       "      <th>HouseFloor</th>\n",
       "      <th>HouseYear</th>\n",
       "      <th>Id</th>\n",
       "      <th>KitchenSquare</th>\n",
       "      <th>LifeSquare</th>\n",
       "      <th>Price</th>\n",
       "      <th>Rooms</th>\n",
       "      <th>Shops_1</th>\n",
       "      <th>Shops_2</th>\n",
       "      <th>Social_1</th>\n",
       "      <th>Social_2</th>\n",
       "      <th>Social_3</th>\n",
       "      <th>Square</th>\n",
       "    </tr>\n",
       "  </thead>\n",
       "  <tbody>\n",
       "    <tr>\n",
       "      <td>1397</td>\n",
       "      <td>27</td>\n",
       "      <td>0.075424</td>\n",
       "      <td>B</td>\n",
       "      <td>B</td>\n",
       "      <td>4.0</td>\n",
       "      <td>NaN</td>\n",
       "      <td>0</td>\n",
       "      <td>9.0</td>\n",
       "      <td>2016</td>\n",
       "      <td>12638</td>\n",
       "      <td>0.0</td>\n",
       "      <td>136.215499</td>\n",
       "      <td>268394.744389</td>\n",
       "      <td>0.0</td>\n",
       "      <td>0</td>\n",
       "      <td>B</td>\n",
       "      <td>11</td>\n",
       "      <td>3097</td>\n",
       "      <td>0</td>\n",
       "      <td>138.427694</td>\n",
       "    </tr>\n",
       "    <tr>\n",
       "      <td>1981</td>\n",
       "      <td>27</td>\n",
       "      <td>0.211401</td>\n",
       "      <td>B</td>\n",
       "      <td>B</td>\n",
       "      <td>2.0</td>\n",
       "      <td>NaN</td>\n",
       "      <td>0</td>\n",
       "      <td>3.0</td>\n",
       "      <td>2008</td>\n",
       "      <td>7917</td>\n",
       "      <td>0.0</td>\n",
       "      <td>211.231125</td>\n",
       "      <td>302211.260887</td>\n",
       "      <td>0.0</td>\n",
       "      <td>1</td>\n",
       "      <td>B</td>\n",
       "      <td>9</td>\n",
       "      <td>1892</td>\n",
       "      <td>0</td>\n",
       "      <td>52.645757</td>\n",
       "    </tr>\n",
       "    <tr>\n",
       "      <td>2269</td>\n",
       "      <td>27</td>\n",
       "      <td>0.211401</td>\n",
       "      <td>B</td>\n",
       "      <td>B</td>\n",
       "      <td>13.0</td>\n",
       "      <td>NaN</td>\n",
       "      <td>0</td>\n",
       "      <td>17.0</td>\n",
       "      <td>1977</td>\n",
       "      <td>7317</td>\n",
       "      <td>0.0</td>\n",
       "      <td>NaN</td>\n",
       "      <td>98129.976788</td>\n",
       "      <td>0.0</td>\n",
       "      <td>1</td>\n",
       "      <td>B</td>\n",
       "      <td>9</td>\n",
       "      <td>1892</td>\n",
       "      <td>0</td>\n",
       "      <td>41.790881</td>\n",
       "    </tr>\n",
       "    <tr>\n",
       "      <td>3911</td>\n",
       "      <td>28</td>\n",
       "      <td>0.118537</td>\n",
       "      <td>B</td>\n",
       "      <td>B</td>\n",
       "      <td>16.0</td>\n",
       "      <td>1183.0</td>\n",
       "      <td>1</td>\n",
       "      <td>17.0</td>\n",
       "      <td>2015</td>\n",
       "      <td>770</td>\n",
       "      <td>0.0</td>\n",
       "      <td>NaN</td>\n",
       "      <td>217009.338463</td>\n",
       "      <td>0.0</td>\n",
       "      <td>0</td>\n",
       "      <td>B</td>\n",
       "      <td>30</td>\n",
       "      <td>6207</td>\n",
       "      <td>1</td>\n",
       "      <td>49.483501</td>\n",
       "    </tr>\n",
       "    <tr>\n",
       "      <td>4366</td>\n",
       "      <td>6</td>\n",
       "      <td>0.243205</td>\n",
       "      <td>B</td>\n",
       "      <td>B</td>\n",
       "      <td>4.0</td>\n",
       "      <td>540.0</td>\n",
       "      <td>0</td>\n",
       "      <td>9.0</td>\n",
       "      <td>1977</td>\n",
       "      <td>456</td>\n",
       "      <td>0.0</td>\n",
       "      <td>NaN</td>\n",
       "      <td>212864.799112</td>\n",
       "      <td>0.0</td>\n",
       "      <td>0</td>\n",
       "      <td>B</td>\n",
       "      <td>5</td>\n",
       "      <td>1564</td>\n",
       "      <td>0</td>\n",
       "      <td>81.491446</td>\n",
       "    </tr>\n",
       "    <tr>\n",
       "      <td>4853</td>\n",
       "      <td>27</td>\n",
       "      <td>0.017647</td>\n",
       "      <td>B</td>\n",
       "      <td>B</td>\n",
       "      <td>1.0</td>\n",
       "      <td>NaN</td>\n",
       "      <td>0</td>\n",
       "      <td>9.0</td>\n",
       "      <td>1977</td>\n",
       "      <td>3224</td>\n",
       "      <td>0.0</td>\n",
       "      <td>0.873147</td>\n",
       "      <td>126596.941798</td>\n",
       "      <td>0.0</td>\n",
       "      <td>0</td>\n",
       "      <td>B</td>\n",
       "      <td>2</td>\n",
       "      <td>469</td>\n",
       "      <td>0</td>\n",
       "      <td>52.644933</td>\n",
       "    </tr>\n",
       "    <tr>\n",
       "      <td>6149</td>\n",
       "      <td>88</td>\n",
       "      <td>0.127376</td>\n",
       "      <td>B</td>\n",
       "      <td>B</td>\n",
       "      <td>9.0</td>\n",
       "      <td>NaN</td>\n",
       "      <td>3</td>\n",
       "      <td>16.0</td>\n",
       "      <td>1982</td>\n",
       "      <td>3159</td>\n",
       "      <td>9.0</td>\n",
       "      <td>19.345131</td>\n",
       "      <td>158998.110646</td>\n",
       "      <td>0.0</td>\n",
       "      <td>9</td>\n",
       "      <td>B</td>\n",
       "      <td>43</td>\n",
       "      <td>8429</td>\n",
       "      <td>3</td>\n",
       "      <td>38.697117</td>\n",
       "    </tr>\n",
       "    <tr>\n",
       "      <td>8834</td>\n",
       "      <td>27</td>\n",
       "      <td>0.211401</td>\n",
       "      <td>B</td>\n",
       "      <td>B</td>\n",
       "      <td>5.0</td>\n",
       "      <td>NaN</td>\n",
       "      <td>0</td>\n",
       "      <td>15.0</td>\n",
       "      <td>1977</td>\n",
       "      <td>9443</td>\n",
       "      <td>0.0</td>\n",
       "      <td>85.125471</td>\n",
       "      <td>219281.918007</td>\n",
       "      <td>0.0</td>\n",
       "      <td>1</td>\n",
       "      <td>B</td>\n",
       "      <td>9</td>\n",
       "      <td>1892</td>\n",
       "      <td>0</td>\n",
       "      <td>87.762616</td>\n",
       "    </tr>\n",
       "    <tr>\n",
       "      <td>2406</td>\n",
       "      <td>58</td>\n",
       "      <td>0.437885</td>\n",
       "      <td>B</td>\n",
       "      <td>B</td>\n",
       "      <td>3.0</td>\n",
       "      <td>1084.0</td>\n",
       "      <td>0</td>\n",
       "      <td>3.0</td>\n",
       "      <td>1977</td>\n",
       "      <td>3343</td>\n",
       "      <td>0.0</td>\n",
       "      <td>113.692424</td>\n",
       "      <td>NaN</td>\n",
       "      <td>0.0</td>\n",
       "      <td>5</td>\n",
       "      <td>B</td>\n",
       "      <td>23</td>\n",
       "      <td>5735</td>\n",
       "      <td>3</td>\n",
       "      <td>116.824201</td>\n",
       "    </tr>\n",
       "    <tr>\n",
       "      <td>2524</td>\n",
       "      <td>27</td>\n",
       "      <td>0.017647</td>\n",
       "      <td>B</td>\n",
       "      <td>B</td>\n",
       "      <td>14.0</td>\n",
       "      <td>NaN</td>\n",
       "      <td>0</td>\n",
       "      <td>17.0</td>\n",
       "      <td>1977</td>\n",
       "      <td>10729</td>\n",
       "      <td>12.0</td>\n",
       "      <td>42.820796</td>\n",
       "      <td>NaN</td>\n",
       "      <td>0.0</td>\n",
       "      <td>0</td>\n",
       "      <td>B</td>\n",
       "      <td>2</td>\n",
       "      <td>469</td>\n",
       "      <td>0</td>\n",
       "      <td>76.345154</td>\n",
       "    </tr>\n",
       "  </tbody>\n",
       "</table>\n",
       "</div>"
      ],
      "text/plain": [
       "      DistrictId  Ecology_1 Ecology_2 Ecology_3  Floor  Healthcare_1  \\\n",
       "1397          27   0.075424         B         B    4.0           NaN   \n",
       "1981          27   0.211401         B         B    2.0           NaN   \n",
       "2269          27   0.211401         B         B   13.0           NaN   \n",
       "3911          28   0.118537         B         B   16.0        1183.0   \n",
       "4366           6   0.243205         B         B    4.0         540.0   \n",
       "4853          27   0.017647         B         B    1.0           NaN   \n",
       "6149          88   0.127376         B         B    9.0           NaN   \n",
       "8834          27   0.211401         B         B    5.0           NaN   \n",
       "2406          58   0.437885         B         B    3.0        1084.0   \n",
       "2524          27   0.017647         B         B   14.0           NaN   \n",
       "\n",
       "      Helthcare_2  HouseFloor  HouseYear     Id  KitchenSquare  LifeSquare  \\\n",
       "1397            0         9.0       2016  12638            0.0  136.215499   \n",
       "1981            0         3.0       2008   7917            0.0  211.231125   \n",
       "2269            0        17.0       1977   7317            0.0         NaN   \n",
       "3911            1        17.0       2015    770            0.0         NaN   \n",
       "4366            0         9.0       1977    456            0.0         NaN   \n",
       "4853            0         9.0       1977   3224            0.0    0.873147   \n",
       "6149            3        16.0       1982   3159            9.0   19.345131   \n",
       "8834            0        15.0       1977   9443            0.0   85.125471   \n",
       "2406            0         3.0       1977   3343            0.0  113.692424   \n",
       "2524            0        17.0       1977  10729           12.0   42.820796   \n",
       "\n",
       "              Price  Rooms  Shops_1 Shops_2  Social_1  Social_2  Social_3  \\\n",
       "1397  268394.744389    0.0        0       B        11      3097         0   \n",
       "1981  302211.260887    0.0        1       B         9      1892         0   \n",
       "2269   98129.976788    0.0        1       B         9      1892         0   \n",
       "3911  217009.338463    0.0        0       B        30      6207         1   \n",
       "4366  212864.799112    0.0        0       B         5      1564         0   \n",
       "4853  126596.941798    0.0        0       B         2       469         0   \n",
       "6149  158998.110646    0.0        9       B        43      8429         3   \n",
       "8834  219281.918007    0.0        1       B         9      1892         0   \n",
       "2406            NaN    0.0        5       B        23      5735         3   \n",
       "2524            NaN    0.0        0       B         2       469         0   \n",
       "\n",
       "          Square  \n",
       "1397  138.427694  \n",
       "1981   52.645757  \n",
       "2269   41.790881  \n",
       "3911   49.483501  \n",
       "4366   81.491446  \n",
       "4853   52.644933  \n",
       "6149   38.697117  \n",
       "8834   87.762616  \n",
       "2406  116.824201  \n",
       "2524   76.345154  "
      ]
     },
     "execution_count": 34,
     "metadata": {},
     "output_type": "execute_result"
    }
   ],
   "source": [
    "df.loc[df.Rooms==0]"
   ]
  },
  {
   "cell_type": "code",
   "execution_count": 35,
   "metadata": {},
   "outputs": [
    {
     "data": {
      "text/html": [
       "<div>\n",
       "<style scoped>\n",
       "    .dataframe tbody tr th:only-of-type {\n",
       "        vertical-align: middle;\n",
       "    }\n",
       "\n",
       "    .dataframe tbody tr th {\n",
       "        vertical-align: top;\n",
       "    }\n",
       "\n",
       "    .dataframe thead th {\n",
       "        text-align: right;\n",
       "    }\n",
       "</style>\n",
       "<table border=\"1\" class=\"dataframe\">\n",
       "  <thead>\n",
       "    <tr style=\"text-align: right;\">\n",
       "      <th></th>\n",
       "      <th>count</th>\n",
       "      <th>mean</th>\n",
       "      <th>std</th>\n",
       "      <th>min</th>\n",
       "      <th>25%</th>\n",
       "      <th>50%</th>\n",
       "      <th>75%</th>\n",
       "      <th>max</th>\n",
       "    </tr>\n",
       "    <tr>\n",
       "      <th>Rooms</th>\n",
       "      <th></th>\n",
       "      <th></th>\n",
       "      <th></th>\n",
       "      <th></th>\n",
       "      <th></th>\n",
       "      <th></th>\n",
       "      <th></th>\n",
       "      <th></th>\n",
       "    </tr>\n",
       "  </thead>\n",
       "  <tbody>\n",
       "    <tr>\n",
       "      <td>0.0</td>\n",
       "      <td>10.0</td>\n",
       "      <td>73.611330</td>\n",
       "      <td>33.385264</td>\n",
       "      <td>38.697117</td>\n",
       "      <td>50.273859</td>\n",
       "      <td>64.495456</td>\n",
       "      <td>86.194824</td>\n",
       "      <td>138.427694</td>\n",
       "    </tr>\n",
       "    <tr>\n",
       "      <td>1.0</td>\n",
       "      <td>5474.0</td>\n",
       "      <td>41.213173</td>\n",
       "      <td>9.409742</td>\n",
       "      <td>4.967143</td>\n",
       "      <td>36.643453</td>\n",
       "      <td>40.348619</td>\n",
       "      <td>43.609848</td>\n",
       "      <td>168.086347</td>\n",
       "    </tr>\n",
       "    <tr>\n",
       "      <td>2.0</td>\n",
       "      <td>5914.0</td>\n",
       "      <td>56.567686</td>\n",
       "      <td>10.839870</td>\n",
       "      <td>5.497061</td>\n",
       "      <td>47.917192</td>\n",
       "      <td>55.829078</td>\n",
       "      <td>63.517007</td>\n",
       "      <td>170.379494</td>\n",
       "    </tr>\n",
       "    <tr>\n",
       "      <td>3.0</td>\n",
       "      <td>3334.0</td>\n",
       "      <td>76.938312</td>\n",
       "      <td>15.409241</td>\n",
       "      <td>13.784865</td>\n",
       "      <td>66.010426</td>\n",
       "      <td>77.464118</td>\n",
       "      <td>83.109210</td>\n",
       "      <td>173.974480</td>\n",
       "    </tr>\n",
       "    <tr>\n",
       "      <td>4.0</td>\n",
       "      <td>240.0</td>\n",
       "      <td>94.623851</td>\n",
       "      <td>20.082452</td>\n",
       "      <td>37.920348</td>\n",
       "      <td>82.099791</td>\n",
       "      <td>96.777068</td>\n",
       "      <td>103.027443</td>\n",
       "      <td>170.016872</td>\n",
       "    </tr>\n",
       "    <tr>\n",
       "      <td>5.0</td>\n",
       "      <td>25.0</td>\n",
       "      <td>100.702851</td>\n",
       "      <td>33.488626</td>\n",
       "      <td>39.906082</td>\n",
       "      <td>85.313605</td>\n",
       "      <td>112.135525</td>\n",
       "      <td>120.330727</td>\n",
       "      <td>157.976101</td>\n",
       "    </tr>\n",
       "    <tr>\n",
       "      <td>6.0</td>\n",
       "      <td>3.0</td>\n",
       "      <td>74.270105</td>\n",
       "      <td>31.773460</td>\n",
       "      <td>52.645757</td>\n",
       "      <td>56.030045</td>\n",
       "      <td>59.414334</td>\n",
       "      <td>85.082280</td>\n",
       "      <td>110.750226</td>\n",
       "    </tr>\n",
       "  </tbody>\n",
       "</table>\n",
       "</div>"
      ],
      "text/plain": [
       "        count        mean        std        min        25%         50%  \\\n",
       "Rooms                                                                    \n",
       "0.0      10.0   73.611330  33.385264  38.697117  50.273859   64.495456   \n",
       "1.0    5474.0   41.213173   9.409742   4.967143  36.643453   40.348619   \n",
       "2.0    5914.0   56.567686  10.839870   5.497061  47.917192   55.829078   \n",
       "3.0    3334.0   76.938312  15.409241  13.784865  66.010426   77.464118   \n",
       "4.0     240.0   94.623851  20.082452  37.920348  82.099791   96.777068   \n",
       "5.0      25.0  100.702851  33.488626  39.906082  85.313605  112.135525   \n",
       "6.0       3.0   74.270105  31.773460  52.645757  56.030045   59.414334   \n",
       "\n",
       "              75%         max  \n",
       "Rooms                          \n",
       "0.0     86.194824  138.427694  \n",
       "1.0     43.609848  168.086347  \n",
       "2.0     63.517007  170.379494  \n",
       "3.0     83.109210  173.974480  \n",
       "4.0    103.027443  170.016872  \n",
       "5.0    120.330727  157.976101  \n",
       "6.0     85.082280  110.750226  "
      ]
     },
     "execution_count": 35,
     "metadata": {},
     "output_type": "execute_result"
    }
   ],
   "source": [
    "df.groupby('Rooms').Square.describe()#agg({'q25': quantile(0.25), 'q75':quantile(0.75)})"
   ]
  },
  {
   "cell_type": "code",
   "execution_count": 36,
   "metadata": {},
   "outputs": [],
   "source": [
    "def rooms_by_square(square):\n",
    "    if square < 45:\n",
    "        return 1\n",
    "    if square < 65:\n",
    "        return 2\n",
    "    if square < 82:\n",
    "        return 3\n",
    "    if square < 100:\n",
    "        return 4\n",
    "    if square < 120:\n",
    "        return 5\n",
    "    return 6"
   ]
  },
  {
   "cell_type": "code",
   "execution_count": 37,
   "metadata": {},
   "outputs": [],
   "source": [
    "df.loc[df.Rooms==0, 'Rooms'] = df.loc[df.Rooms==0, 'Square'].apply(lambda x: rooms_by_square(x))"
   ]
  },
  {
   "cell_type": "code",
   "execution_count": 38,
   "metadata": {},
   "outputs": [
    {
     "data": {
      "text/plain": [
       "<matplotlib.collections.PathCollection at 0x2b850e37d08>"
      ]
     },
     "execution_count": 38,
     "metadata": {},
     "output_type": "execute_result"
    },
    {
     "data": {
      "image/png": "[encoded data removed]",
      "text/plain": [
       "<Figure size 432x288 with 1 Axes>"
      ]
     },
     "metadata": {
      "needs_background": "light"
     },
     "output_type": "display_data"
    }
   ],
   "source": [
    "plt.scatter(df.KitchenSquare, df.Square)"
   ]
  },
  {
   "cell_type": "code",
   "execution_count": 39,
   "metadata": {},
   "outputs": [
    {
     "data": {
      "text/plain": [
       "1064    2014.0\n",
       "8584    1970.0\n",
       "1964     620.0\n",
       "Name: KitchenSquare, dtype: float64"
      ]
     },
     "execution_count": 39,
     "metadata": {},
     "output_type": "execute_result"
    }
   ],
   "source": [
    "df.loc[df.KitchenSquare>250, 'KitchenSquare']"
   ]
  },
  {
   "cell_type": "code",
   "execution_count": 40,
   "metadata": {},
   "outputs": [],
   "source": [
    "df.loc[df.KitchenSquare>60, 'KitchenSquare'] = np.mean(df.KitchenSquare/df.Square) * df.loc[df.KitchenSquare>60, 'Square']"
   ]
  },
  {
   "cell_type": "code",
   "execution_count": 41,
   "metadata": {},
   "outputs": [],
   "source": [
    "df.loc[df.KitchenSquare==0, 'KitchenSquare'] = np.mean(df.KitchenSquare/df.Square) * df.loc[df.KitchenSquare==0, 'Square']"
   ]
  },
  {
   "cell_type": "code",
   "execution_count": 42,
   "metadata": {},
   "outputs": [],
   "source": [
    "df.loc[df.KitchenSquare>df.Square, 'KitchenSquare'] = np.mean(df.KitchenSquare/df.Square) * df.loc[df.KitchenSquare>df.Square, 'Square']"
   ]
  },
  {
   "cell_type": "code",
   "execution_count": 43,
   "metadata": {},
   "outputs": [
    {
     "data": {
      "text/plain": [
       "<matplotlib.collections.PathCollection at 0x2b850eafb48>"
      ]
     },
     "execution_count": 43,
     "metadata": {},
     "output_type": "execute_result"
    },
    {
     "data": {
      "image/png": "[encoded data removed]",
      "text/plain": [
       "<Figure size 432x288 with 1 Axes>"
      ]
     },
     "metadata": {
      "needs_background": "light"
     },
     "output_type": "display_data"
    }
   ],
   "source": [
    "plt.scatter(df.KitchenSquare, df.Square)"
   ]
  },
  {
   "cell_type": "code",
   "execution_count": 44,
   "metadata": {},
   "outputs": [
    {
     "data": {
      "text/plain": [
       "0.660613871025984"
      ]
     },
     "execution_count": 44,
     "metadata": {},
     "output_type": "execute_result"
    }
   ],
   "source": [
    "np.mean(df.loc[np.isnan(df.LifeSquare)==False, 'LifeSquare'] /df.loc[np.isnan(df.LifeSquare)==False, 'Square'])"
   ]
  },
  {
   "cell_type": "markdown",
   "metadata": {},
   "source": [
    "### Добавление новых признаков"
   ]
  },
  {
   "cell_type": "code",
   "execution_count": 45,
   "metadata": {},
   "outputs": [],
   "source": [
    "df['LifeSquareNan'] = np.int64(np.isnan(df.LifeSquare))"
   ]
  },
  {
   "cell_type": "code",
   "execution_count": 46,
   "metadata": {},
   "outputs": [],
   "source": [
    "df.loc[np.isnan(df.LifeSquare), 'LifeSquare']=\\\n",
    "    np.mean(df.loc[np.isnan(df.LifeSquare)==False, 'LifeSquare'] /df.loc[np.isnan(df.LifeSquare)==False, 'Square']) * \\\n",
    "    df.loc[np.isnan(df.LifeSquare), 'Square']"
   ]
  },
  {
   "cell_type": "code",
   "execution_count": 47,
   "metadata": {},
   "outputs": [],
   "source": [
    "df['Healthcare1Nan'] = np.int64(np.isnan(df.Healthcare_1))"
   ]
  },
  {
   "cell_type": "code",
   "execution_count": 48,
   "metadata": {},
   "outputs": [],
   "source": [
    "df['Ecology_2_int'] = df['Ecology_2'].replace({'A':0, 'B':1})\n",
    "df['Ecology_3_int'] = df['Ecology_3'].replace({'A':0, 'B':1})\n",
    "df['Shops_2_int'] = df['Shops_2'].replace({'A':0, 'B':1})"
   ]
  },
  {
   "cell_type": "code",
   "execution_count": 49,
   "metadata": {},
   "outputs": [],
   "source": [
    "district_price = df.groupby('DistrictId').Price.mean()"
   ]
  },
  {
   "cell_type": "code",
   "execution_count": 50,
   "metadata": {},
   "outputs": [],
   "source": [
    "district_price.columns = ['DistrictId', 'DistrictPrice']"
   ]
  },
  {
   "cell_type": "code",
   "execution_count": 51,
   "metadata": {},
   "outputs": [
    {
     "data": {
      "text/plain": [
       "DistrictId\n",
       "0    195295.590075\n",
       "1    187805.401737\n",
       "2    243688.618402\n",
       "3    179905.016194\n",
       "4    300096.687440\n",
       "Name: Price, dtype: float64"
      ]
     },
     "execution_count": 51,
     "metadata": {},
     "output_type": "execute_result"
    }
   ],
   "source": [
    "district_price.head()"
   ]
  },
  {
   "cell_type": "code",
   "execution_count": 52,
   "metadata": {},
   "outputs": [],
   "source": [
    "df = df.merge(district_price, on='DistrictId', how='left')"
   ]
  },
  {
   "cell_type": "code",
   "execution_count": 53,
   "metadata": {},
   "outputs": [],
   "source": [
    "df.rename(columns={'Price_y': 'DistrictPrice'} , inplace=True)"
   ]
  },
  {
   "cell_type": "code",
   "execution_count": 54,
   "metadata": {},
   "outputs": [],
   "source": [
    "df.rename(columns={'Price_x': 'Price'} , inplace=True)"
   ]
  },
  {
   "cell_type": "code",
   "execution_count": 55,
   "metadata": {},
   "outputs": [
    {
     "data": {
      "text/html": [
       "<div>\n",
       "<style scoped>\n",
       "    .dataframe tbody tr th:only-of-type {\n",
       "        vertical-align: middle;\n",
       "    }\n",
       "\n",
       "    .dataframe tbody tr th {\n",
       "        vertical-align: top;\n",
       "    }\n",
       "\n",
       "    .dataframe thead th {\n",
       "        text-align: right;\n",
       "    }\n",
       "</style>\n",
       "<table border=\"1\" class=\"dataframe\">\n",
       "  <thead>\n",
       "    <tr style=\"text-align: right;\">\n",
       "      <th></th>\n",
       "      <th>DistrictId</th>\n",
       "      <th>Rooms</th>\n",
       "      <th>Price</th>\n",
       "    </tr>\n",
       "  </thead>\n",
       "  <tbody>\n",
       "    <tr>\n",
       "      <td>0</td>\n",
       "      <td>0</td>\n",
       "      <td>1.0</td>\n",
       "      <td>142799.434052</td>\n",
       "    </tr>\n",
       "    <tr>\n",
       "      <td>1</td>\n",
       "      <td>0</td>\n",
       "      <td>2.0</td>\n",
       "      <td>176210.812334</td>\n",
       "    </tr>\n",
       "    <tr>\n",
       "      <td>2</td>\n",
       "      <td>0</td>\n",
       "      <td>3.0</td>\n",
       "      <td>300610.359425</td>\n",
       "    </tr>\n",
       "    <tr>\n",
       "      <td>3</td>\n",
       "      <td>0</td>\n",
       "      <td>4.0</td>\n",
       "      <td>NaN</td>\n",
       "    </tr>\n",
       "    <tr>\n",
       "      <td>4</td>\n",
       "      <td>1</td>\n",
       "      <td>1.0</td>\n",
       "      <td>146735.671740</td>\n",
       "    </tr>\n",
       "    <tr>\n",
       "      <td>...</td>\n",
       "      <td>...</td>\n",
       "      <td>...</td>\n",
       "      <td>...</td>\n",
       "    </tr>\n",
       "    <tr>\n",
       "      <td>720</td>\n",
       "      <td>209</td>\n",
       "      <td>1.0</td>\n",
       "      <td>140048.802277</td>\n",
       "    </tr>\n",
       "    <tr>\n",
       "      <td>721</td>\n",
       "      <td>209</td>\n",
       "      <td>3.0</td>\n",
       "      <td>NaN</td>\n",
       "    </tr>\n",
       "    <tr>\n",
       "      <td>722</td>\n",
       "      <td>210</td>\n",
       "      <td>2.0</td>\n",
       "      <td>NaN</td>\n",
       "    </tr>\n",
       "    <tr>\n",
       "      <td>723</td>\n",
       "      <td>211</td>\n",
       "      <td>2.0</td>\n",
       "      <td>NaN</td>\n",
       "    </tr>\n",
       "    <tr>\n",
       "      <td>724</td>\n",
       "      <td>212</td>\n",
       "      <td>2.0</td>\n",
       "      <td>NaN</td>\n",
       "    </tr>\n",
       "  </tbody>\n",
       "</table>\n",
       "<p>725 rows × 3 columns</p>\n",
       "</div>"
      ],
      "text/plain": [
       "     DistrictId  Rooms          Price\n",
       "0             0    1.0  142799.434052\n",
       "1             0    2.0  176210.812334\n",
       "2             0    3.0  300610.359425\n",
       "3             0    4.0            NaN\n",
       "4             1    1.0  146735.671740\n",
       "..          ...    ...            ...\n",
       "720         209    1.0  140048.802277\n",
       "721         209    3.0            NaN\n",
       "722         210    2.0            NaN\n",
       "723         211    2.0            NaN\n",
       "724         212    2.0            NaN\n",
       "\n",
       "[725 rows x 3 columns]"
      ]
     },
     "execution_count": 55,
     "metadata": {},
     "output_type": "execute_result"
    }
   ],
   "source": [
    "df.groupby(['DistrictId', 'Rooms'], as_index=False).agg({'Price':'median'})"
   ]
  },
  {
   "cell_type": "code",
   "execution_count": 56,
   "metadata": {},
   "outputs": [],
   "source": [
    "district_room_price = df.groupby(['DistrictId', 'Rooms'], as_index=False).agg({'Price':'median'})\\\n",
    "                       .rename(columns={'Price':'DistrictRoomPrice'})"
   ]
  },
  {
   "cell_type": "code",
   "execution_count": 57,
   "metadata": {},
   "outputs": [],
   "source": [
    "df = df.merge(district_room_price, on=['DistrictId', 'Rooms'], how='left')"
   ]
  },
  {
   "cell_type": "code",
   "execution_count": 58,
   "metadata": {},
   "outputs": [],
   "source": [
    "df.loc[np.isnan(df.Healthcare_1), 'Healthcare_1'] = -1"
   ]
  },
  {
   "cell_type": "code",
   "execution_count": 59,
   "metadata": {},
   "outputs": [],
   "source": [
    "df.loc[np.isnan(df.DistrictPrice), 'DistrictPrice'] = 0"
   ]
  },
  {
   "cell_type": "code",
   "execution_count": 60,
   "metadata": {},
   "outputs": [],
   "source": [
    "df.loc[np.isnan(df.DistrictRoomPrice), 'DistrictRoomPrice'] = 0"
   ]
  },
  {
   "cell_type": "code",
   "execution_count": 61,
   "metadata": {},
   "outputs": [],
   "source": [
    "df.loc[df.Square > 90, 'Square'] = df.loc[df.Square > 90, 'Square'].median()"
   ]
  },
  {
   "cell_type": "code",
   "execution_count": 62,
   "metadata": {},
   "outputs": [
    {
     "data": {
      "text/plain": [
       "2    5067\n",
       "3    4282\n",
       "4    2947\n",
       "5    1943\n",
       "6     621\n",
       "1     132\n",
       "0       8\n",
       "Name: Square, dtype: int64"
      ]
     },
     "execution_count": 62,
     "metadata": {},
     "output_type": "execute_result"
    }
   ],
   "source": [
    "df['Square'].apply(lambda x: min(math.floor(x/15), 6)).value_counts()"
   ]
  },
  {
   "cell_type": "markdown",
   "metadata": {},
   "source": [
    "Так как площадь один из наиболее влияющих паказателей, создаем для него укрупненные группы"
   ]
  },
  {
   "cell_type": "code",
   "execution_count": 63,
   "metadata": {},
   "outputs": [],
   "source": [
    "df['Square_10'] = df['Square'].apply(lambda x: min(math.floor(x/10), 9))"
   ]
  },
  {
   "cell_type": "code",
   "execution_count": 64,
   "metadata": {},
   "outputs": [],
   "source": [
    "df['Square_15'] = df['Square'].apply(lambda x: min(math.floor(x/15), 6))"
   ]
  },
  {
   "cell_type": "markdown",
   "metadata": {},
   "source": [
    "### Расчет PriceByMean\n",
    "По исходным данным определим среднюю цену единицы площади (SqPrice).\n",
    "Усреднением определим среднюю цену единицы площади по району \n",
    " (с учетом десятилетия года постройки - MeanSqPrice_HYear и без - MeanSqPrice) и \n",
    " заполним этим показателем в том числе тестовые данные.\n",
    "На основании средней цены ед.площади и площали квратиры определим стоимость квартиры \n",
    "как расчетную величину от средней по району (и десятилетию постройки).\n",
    "Сделаем эту величину параметром подели - PriceByMean.\n"
   ]
  },
  {
   "cell_type": "code",
   "execution_count": 65,
   "metadata": {},
   "outputs": [
    {
     "data": {
      "text/plain": [
       "<matplotlib.axes._subplots.AxesSubplot at 0x2b8522eff88>"
      ]
     },
     "execution_count": 65,
     "metadata": {},
     "output_type": "execute_result"
    },
    {
     "data": {
      "image/png": "[encoded data removed]",
      "text/plain": [
       "<Figure size 432x288 with 1 Axes>"
      ]
     },
     "metadata": {
      "needs_background": "light"
     },
     "output_type": "display_data"
    }
   ],
   "source": [
    "df.Price.hist()"
   ]
  },
  {
   "cell_type": "code",
   "execution_count": 66,
   "metadata": {},
   "outputs": [
    {
     "data": {
      "text/plain": [
       "count    10000.000000\n",
       "mean      3914.454794\n",
       "std       1594.444820\n",
       "min        693.050412\n",
       "25%       2918.525328\n",
       "50%       3913.801225\n",
       "75%       4694.358839\n",
       "max      75042.110444\n",
       "dtype: float64"
      ]
     },
     "execution_count": 66,
     "metadata": {},
     "output_type": "execute_result"
    }
   ],
   "source": [
    "(df.loc[np.isnan(df.Price)==False, 'Price']/df.loc[np.isnan(df.Price)==False, 'Square']).describe()"
   ]
  },
  {
   "cell_type": "code",
   "execution_count": 67,
   "metadata": {},
   "outputs": [],
   "source": [
    "df['SqPrice'] = df.Price/df.Square"
   ]
  },
  {
   "cell_type": "code",
   "execution_count": 68,
   "metadata": {},
   "outputs": [
    {
     "data": {
      "image/png": "[encoded data removed]",
      "text/plain": [
       "<Figure size 432x288 with 1 Axes>"
      ]
     },
     "metadata": {
      "needs_background": "light"
     },
     "output_type": "display_data"
    }
   ],
   "source": [
    "plt.hist(df.SqPrice, 100, density=True, facecolor='g', alpha=0.75)\n",
    "\n",
    "plt.grid(True)\n",
    "plt.show()"
   ]
  },
  {
   "cell_type": "code",
   "execution_count": 69,
   "metadata": {},
   "outputs": [],
   "source": [
    "df.loc[df.SqPrice > df.SqPrice.quantile(.998), 'SqPrice'] = df.SqPrice.median()"
   ]
  },
  {
   "cell_type": "code",
   "execution_count": 70,
   "metadata": {},
   "outputs": [],
   "source": [
    "df.loc[df.SqPrice < df.SqPrice.quantile(.002), 'SqPrice'] = df.SqPrice.median()"
   ]
  },
  {
   "cell_type": "code",
   "execution_count": 71,
   "metadata": {},
   "outputs": [],
   "source": [
    "#df.drop(['SqPrice'], axis=1, inplace=True)"
   ]
  },
  {
   "cell_type": "code",
   "execution_count": 72,
   "metadata": {},
   "outputs": [
    {
     "data": {
      "text/plain": [
       "<matplotlib.collections.PathCollection at 0x2b85244d088>"
      ]
     },
     "execution_count": 72,
     "metadata": {},
     "output_type": "execute_result"
    },
    {
     "data": {
      "image/png": "[encoded data removed]",
      "text/plain": [
       "<Figure size 432x288 with 1 Axes>"
      ]
     },
     "metadata": {
      "needs_background": "light"
     },
     "output_type": "display_data"
    }
   ],
   "source": [
    "plt.scatter(df['HouseYear'].apply(lambda x: math.floor(x/10)*10), df.SqPrice)"
   ]
  },
  {
   "cell_type": "code",
   "execution_count": 73,
   "metadata": {},
   "outputs": [
    {
     "data": {
      "text/plain": [
       "<matplotlib.collections.PathCollection at 0x2b85241bf88>"
      ]
     },
     "execution_count": 73,
     "metadata": {},
     "output_type": "execute_result"
    },
    {
     "data": {
      "image/png": "[encoded data removed]",
      "text/plain": [
       "<Figure size 432x288 with 1 Axes>"
      ]
     },
     "metadata": {
      "needs_background": "light"
     },
     "output_type": "display_data"
    }
   ],
   "source": [
    "plt.scatter(df.DistrictId, df.SqPrice)"
   ]
  },
  {
   "cell_type": "code",
   "execution_count": 74,
   "metadata": {},
   "outputs": [],
   "source": [
    "df['HouseYear10'] = df['HouseYear'].apply(lambda x: math.floor(x/10)*10)"
   ]
  },
  {
   "cell_type": "code",
   "execution_count": null,
   "metadata": {},
   "outputs": [],
   "source": []
  },
  {
   "cell_type": "code",
   "execution_count": 75,
   "metadata": {},
   "outputs": [],
   "source": [
    "district_mean_sqprice = df.groupby(['DistrictId', 'HouseYear10'], as_index=False).agg({'SqPrice':'median'})\\\n",
    "                       .rename(columns={'SqPrice':'MeanSqPrice_HYear'})"
   ]
  },
  {
   "cell_type": "code",
   "execution_count": 76,
   "metadata": {},
   "outputs": [],
   "source": [
    "df = df.merge(district_mean_sqprice, on=['DistrictId', 'HouseYear10'], how='left')"
   ]
  },
  {
   "cell_type": "code",
   "execution_count": 77,
   "metadata": {},
   "outputs": [],
   "source": [
    "district_mean_sqprice_d = df.groupby(['DistrictId'], as_index=False).agg({'SqPrice':'median'})\\\n",
    "                       .rename(columns={'SqPrice':'MeanSqPrice'})"
   ]
  },
  {
   "cell_type": "code",
   "execution_count": 78,
   "metadata": {},
   "outputs": [],
   "source": [
    "df = df.merge(district_mean_sqprice_d, on=['DistrictId'], how='left')"
   ]
  },
  {
   "cell_type": "code",
   "execution_count": 79,
   "metadata": {},
   "outputs": [],
   "source": [
    "df.loc[np.isnan(df.MeanSqPrice), 'MeanSqPrice'] = df.SqPrice.median()"
   ]
  },
  {
   "cell_type": "code",
   "execution_count": 80,
   "metadata": {},
   "outputs": [],
   "source": [
    "df.loc[np.isnan(df.MeanSqPrice_HYear), 'MeanSqPrice_HYear'] = df.loc[np.isnan(df.MeanSqPrice_HYear), 'MeanSqPrice']"
   ]
  },
  {
   "cell_type": "code",
   "execution_count": 81,
   "metadata": {},
   "outputs": [],
   "source": [
    "#df.drop(['PriceByMean'], axis=1, inplace=True)"
   ]
  },
  {
   "cell_type": "code",
   "execution_count": 82,
   "metadata": {},
   "outputs": [],
   "source": [
    "df['PriceByMean'] = df.MeanSqPrice_HYear * df.Square"
   ]
  },
  {
   "cell_type": "code",
   "execution_count": 83,
   "metadata": {},
   "outputs": [
    {
     "data": {
      "text/plain": [
       "<matplotlib.collections.PathCollection at 0x2b8524d5708>"
      ]
     },
     "execution_count": 83,
     "metadata": {},
     "output_type": "execute_result"
    },
    {
     "data": {
      "image/png": "[encoded data removed]",
      "text/plain": [
       "<Figure size 432x288 with 1 Axes>"
      ]
     },
     "metadata": {
      "needs_background": "light"
     },
     "output_type": "display_data"
    }
   ],
   "source": [
    "plt.scatter(df.loc[np.isnan(df.Price)==False, 'PriceByMean'], df.loc[np.isnan(df.Price)==False, 'Price'] )"
   ]
  },
  {
   "cell_type": "code",
   "execution_count": 84,
   "metadata": {},
   "outputs": [
    {
     "data": {
      "image/png": "[encoded data removed]",
      "text/plain": [
       "<Figure size 432x288 with 1 Axes>"
      ]
     },
     "metadata": {
      "needs_background": "light"
     },
     "output_type": "display_data"
    }
   ],
   "source": [
    "plt.hist(df.PriceByMean, 100, density=True, facecolor='g', alpha=0.75)\n",
    "\n",
    "plt.grid(True)\n",
    "plt.show()"
   ]
  },
  {
   "cell_type": "code",
   "execution_count": 85,
   "metadata": {},
   "outputs": [
    {
     "data": {
      "text/plain": [
       "247733.04265731134"
      ]
     },
     "execution_count": 85,
     "metadata": {},
     "output_type": "execute_result"
    }
   ],
   "source": [
    "pr_mode = df.loc[:, ['PriceByMean']].mode(axis=0, numeric_only=True).iloc[0,0]\n",
    "\n",
    "pr_mode"
   ]
  },
  {
   "cell_type": "code",
   "execution_count": 86,
   "metadata": {},
   "outputs": [],
   "source": [
    "df.loc[df.PriceByMean > df.PriceByMean.quantile(.995), 'PriceByMean'] = pr_mode\n"
   ]
  },
  {
   "cell_type": "code",
   "execution_count": null,
   "metadata": {},
   "outputs": [],
   "source": []
  },
  {
   "cell_type": "code",
   "execution_count": 87,
   "metadata": {},
   "outputs": [
    {
     "data": {
      "text/html": [
       "<div>\n",
       "<style scoped>\n",
       "    .dataframe tbody tr th:only-of-type {\n",
       "        vertical-align: middle;\n",
       "    }\n",
       "\n",
       "    .dataframe tbody tr th {\n",
       "        vertical-align: top;\n",
       "    }\n",
       "\n",
       "    .dataframe thead th {\n",
       "        text-align: right;\n",
       "    }\n",
       "</style>\n",
       "<table border=\"1\" class=\"dataframe\">\n",
       "  <thead>\n",
       "    <tr style=\"text-align: right;\">\n",
       "      <th></th>\n",
       "      <th>count</th>\n",
       "      <th>mean</th>\n",
       "      <th>std</th>\n",
       "      <th>min</th>\n",
       "      <th>25%</th>\n",
       "      <th>50%</th>\n",
       "      <th>75%</th>\n",
       "      <th>max</th>\n",
       "    </tr>\n",
       "  </thead>\n",
       "  <tbody>\n",
       "    <tr>\n",
       "      <td>DistrictId</td>\n",
       "      <td>15000.0</td>\n",
       "      <td>50.693600</td>\n",
       "      <td>43.786257</td>\n",
       "      <td>0.000000</td>\n",
       "      <td>20.000000</td>\n",
       "      <td>37.000000</td>\n",
       "      <td>75.000000</td>\n",
       "      <td>212.000000</td>\n",
       "    </tr>\n",
       "    <tr>\n",
       "      <td>Ecology_1</td>\n",
       "      <td>15000.0</td>\n",
       "      <td>0.119196</td>\n",
       "      <td>0.119371</td>\n",
       "      <td>0.000000</td>\n",
       "      <td>0.017647</td>\n",
       "      <td>0.075424</td>\n",
       "      <td>0.195781</td>\n",
       "      <td>0.521867</td>\n",
       "    </tr>\n",
       "    <tr>\n",
       "      <td>Floor</td>\n",
       "      <td>15000.0</td>\n",
       "      <td>8.558067</td>\n",
       "      <td>5.293968</td>\n",
       "      <td>1.000000</td>\n",
       "      <td>4.000000</td>\n",
       "      <td>7.000000</td>\n",
       "      <td>12.000000</td>\n",
       "      <td>46.000000</td>\n",
       "    </tr>\n",
       "    <tr>\n",
       "      <td>Healthcare_1</td>\n",
       "      <td>15000.0</td>\n",
       "      <td>596.393067</td>\n",
       "      <td>938.030826</td>\n",
       "      <td>-1.000000</td>\n",
       "      <td>-1.000000</td>\n",
       "      <td>30.000000</td>\n",
       "      <td>990.000000</td>\n",
       "      <td>4849.000000</td>\n",
       "    </tr>\n",
       "    <tr>\n",
       "      <td>Helthcare_2</td>\n",
       "      <td>15000.0</td>\n",
       "      <td>1.319467</td>\n",
       "      <td>1.489012</td>\n",
       "      <td>0.000000</td>\n",
       "      <td>0.000000</td>\n",
       "      <td>1.000000</td>\n",
       "      <td>2.000000</td>\n",
       "      <td>6.000000</td>\n",
       "    </tr>\n",
       "    <tr>\n",
       "      <td>HouseFloor</td>\n",
       "      <td>15000.0</td>\n",
       "      <td>14.275933</td>\n",
       "      <td>5.687502</td>\n",
       "      <td>1.000000</td>\n",
       "      <td>9.000000</td>\n",
       "      <td>15.000000</td>\n",
       "      <td>17.000000</td>\n",
       "      <td>48.000000</td>\n",
       "    </tr>\n",
       "    <tr>\n",
       "      <td>HouseYear</td>\n",
       "      <td>15000.0</td>\n",
       "      <td>1984.709000</td>\n",
       "      <td>18.466387</td>\n",
       "      <td>1908.000000</td>\n",
       "      <td>1974.000000</td>\n",
       "      <td>1977.000000</td>\n",
       "      <td>2001.000000</td>\n",
       "      <td>2020.000000</td>\n",
       "    </tr>\n",
       "    <tr>\n",
       "      <td>Id</td>\n",
       "      <td>15000.0</td>\n",
       "      <td>8393.136933</td>\n",
       "      <td>4850.111673</td>\n",
       "      <td>0.000000</td>\n",
       "      <td>4188.750000</td>\n",
       "      <td>8378.500000</td>\n",
       "      <td>12594.250000</td>\n",
       "      <td>16798.000000</td>\n",
       "    </tr>\n",
       "    <tr>\n",
       "      <td>KitchenSquare</td>\n",
       "      <td>15000.0</td>\n",
       "      <td>6.239803</td>\n",
       "      <td>4.029853</td>\n",
       "      <td>1.000000</td>\n",
       "      <td>3.977402</td>\n",
       "      <td>6.000000</td>\n",
       "      <td>9.000000</td>\n",
       "      <td>60.000000</td>\n",
       "    </tr>\n",
       "    <tr>\n",
       "      <td>LifeSquare</td>\n",
       "      <td>15000.0</td>\n",
       "      <td>37.466459</td>\n",
       "      <td>63.484393</td>\n",
       "      <td>0.333490</td>\n",
       "      <td>24.806878</td>\n",
       "      <td>33.666240</td>\n",
       "      <td>45.236255</td>\n",
       "      <td>7480.592129</td>\n",
       "    </tr>\n",
       "    <tr>\n",
       "      <td>Price</td>\n",
       "      <td>10000.0</td>\n",
       "      <td>214138.857399</td>\n",
       "      <td>92872.293865</td>\n",
       "      <td>59174.778028</td>\n",
       "      <td>153872.633942</td>\n",
       "      <td>192269.644879</td>\n",
       "      <td>249135.462171</td>\n",
       "      <td>633233.466570</td>\n",
       "    </tr>\n",
       "    <tr>\n",
       "      <td>Rooms</td>\n",
       "      <td>15000.0</td>\n",
       "      <td>1.895733</td>\n",
       "      <td>0.812879</td>\n",
       "      <td>1.000000</td>\n",
       "      <td>1.000000</td>\n",
       "      <td>2.000000</td>\n",
       "      <td>2.000000</td>\n",
       "      <td>6.000000</td>\n",
       "    </tr>\n",
       "    <tr>\n",
       "      <td>Shops_1</td>\n",
       "      <td>15000.0</td>\n",
       "      <td>4.235133</td>\n",
       "      <td>4.796545</td>\n",
       "      <td>0.000000</td>\n",
       "      <td>1.000000</td>\n",
       "      <td>3.000000</td>\n",
       "      <td>6.000000</td>\n",
       "      <td>23.000000</td>\n",
       "    </tr>\n",
       "    <tr>\n",
       "      <td>Social_1</td>\n",
       "      <td>15000.0</td>\n",
       "      <td>24.769267</td>\n",
       "      <td>17.532278</td>\n",
       "      <td>0.000000</td>\n",
       "      <td>6.000000</td>\n",
       "      <td>25.000000</td>\n",
       "      <td>36.000000</td>\n",
       "      <td>74.000000</td>\n",
       "    </tr>\n",
       "    <tr>\n",
       "      <td>Social_2</td>\n",
       "      <td>15000.0</td>\n",
       "      <td>5370.404933</td>\n",
       "      <td>4013.364403</td>\n",
       "      <td>168.000000</td>\n",
       "      <td>1564.000000</td>\n",
       "      <td>5285.000000</td>\n",
       "      <td>7287.000000</td>\n",
       "      <td>19083.000000</td>\n",
       "    </tr>\n",
       "    <tr>\n",
       "      <td>Social_3</td>\n",
       "      <td>15000.0</td>\n",
       "      <td>8.113667</td>\n",
       "      <td>23.841946</td>\n",
       "      <td>0.000000</td>\n",
       "      <td>0.000000</td>\n",
       "      <td>2.000000</td>\n",
       "      <td>5.000000</td>\n",
       "      <td>141.000000</td>\n",
       "    </tr>\n",
       "    <tr>\n",
       "      <td>Square</td>\n",
       "      <td>15000.0</td>\n",
       "      <td>55.974954</td>\n",
       "      <td>17.691742</td>\n",
       "      <td>4.967143</td>\n",
       "      <td>41.844159</td>\n",
       "      <td>52.645345</td>\n",
       "      <td>65.983195</td>\n",
       "      <td>102.528290</td>\n",
       "    </tr>\n",
       "    <tr>\n",
       "      <td>LifeSquareNan</td>\n",
       "      <td>15000.0</td>\n",
       "      <td>0.210267</td>\n",
       "      <td>0.407512</td>\n",
       "      <td>0.000000</td>\n",
       "      <td>0.000000</td>\n",
       "      <td>0.000000</td>\n",
       "      <td>0.000000</td>\n",
       "      <td>1.000000</td>\n",
       "    </tr>\n",
       "    <tr>\n",
       "      <td>Healthcare1Nan</td>\n",
       "      <td>15000.0</td>\n",
       "      <td>0.478333</td>\n",
       "      <td>0.499547</td>\n",
       "      <td>0.000000</td>\n",
       "      <td>0.000000</td>\n",
       "      <td>0.000000</td>\n",
       "      <td>1.000000</td>\n",
       "      <td>1.000000</td>\n",
       "    </tr>\n",
       "    <tr>\n",
       "      <td>Ecology_2_int</td>\n",
       "      <td>15000.0</td>\n",
       "      <td>0.990333</td>\n",
       "      <td>0.097846</td>\n",
       "      <td>0.000000</td>\n",
       "      <td>1.000000</td>\n",
       "      <td>1.000000</td>\n",
       "      <td>1.000000</td>\n",
       "      <td>1.000000</td>\n",
       "    </tr>\n",
       "    <tr>\n",
       "      <td>Ecology_3_int</td>\n",
       "      <td>15000.0</td>\n",
       "      <td>0.971733</td>\n",
       "      <td>0.165739</td>\n",
       "      <td>0.000000</td>\n",
       "      <td>1.000000</td>\n",
       "      <td>1.000000</td>\n",
       "      <td>1.000000</td>\n",
       "      <td>1.000000</td>\n",
       "    </tr>\n",
       "    <tr>\n",
       "      <td>Shops_2_int</td>\n",
       "      <td>15000.0</td>\n",
       "      <td>0.917533</td>\n",
       "      <td>0.275084</td>\n",
       "      <td>0.000000</td>\n",
       "      <td>1.000000</td>\n",
       "      <td>1.000000</td>\n",
       "      <td>1.000000</td>\n",
       "      <td>1.000000</td>\n",
       "    </tr>\n",
       "    <tr>\n",
       "      <td>DistrictPrice</td>\n",
       "      <td>15000.0</td>\n",
       "      <td>214206.413198</td>\n",
       "      <td>54196.806897</td>\n",
       "      <td>0.000000</td>\n",
       "      <td>171615.244096</td>\n",
       "      <td>210696.110719</td>\n",
       "      <td>243688.618402</td>\n",
       "      <td>482791.138606</td>\n",
       "    </tr>\n",
       "    <tr>\n",
       "      <td>DistrictRoomPrice</td>\n",
       "      <td>15000.0</td>\n",
       "      <td>210491.332365</td>\n",
       "      <td>76482.436157</td>\n",
       "      <td>0.000000</td>\n",
       "      <td>165492.670249</td>\n",
       "      <td>195474.299127</td>\n",
       "      <td>240950.091574</td>\n",
       "      <td>624156.003381</td>\n",
       "    </tr>\n",
       "    <tr>\n",
       "      <td>Square_10</td>\n",
       "      <td>15000.0</td>\n",
       "      <td>5.065867</td>\n",
       "      <td>1.700663</td>\n",
       "      <td>0.000000</td>\n",
       "      <td>4.000000</td>\n",
       "      <td>5.000000</td>\n",
       "      <td>6.000000</td>\n",
       "      <td>9.000000</td>\n",
       "    </tr>\n",
       "    <tr>\n",
       "      <td>Square_15</td>\n",
       "      <td>15000.0</td>\n",
       "      <td>3.222733</td>\n",
       "      <td>1.189741</td>\n",
       "      <td>0.000000</td>\n",
       "      <td>2.000000</td>\n",
       "      <td>3.000000</td>\n",
       "      <td>4.000000</td>\n",
       "      <td>6.000000</td>\n",
       "    </tr>\n",
       "    <tr>\n",
       "      <td>SqPrice</td>\n",
       "      <td>10000.0</td>\n",
       "      <td>3894.943540</td>\n",
       "      <td>1217.091698</td>\n",
       "      <td>1140.589309</td>\n",
       "      <td>2926.574646</td>\n",
       "      <td>3913.793153</td>\n",
       "      <td>4689.676261</td>\n",
       "      <td>8831.370739</td>\n",
       "    </tr>\n",
       "    <tr>\n",
       "      <td>HouseYear10</td>\n",
       "      <td>15000.0</td>\n",
       "      <td>1979.474000</td>\n",
       "      <td>18.504580</td>\n",
       "      <td>1900.000000</td>\n",
       "      <td>1970.000000</td>\n",
       "      <td>1970.000000</td>\n",
       "      <td>2000.000000</td>\n",
       "      <td>2020.000000</td>\n",
       "    </tr>\n",
       "    <tr>\n",
       "      <td>MeanSqPrice_HYear</td>\n",
       "      <td>15000.0</td>\n",
       "      <td>3933.703467</td>\n",
       "      <td>1038.300853</td>\n",
       "      <td>1207.535586</td>\n",
       "      <td>2873.204667</td>\n",
       "      <td>4114.411772</td>\n",
       "      <td>4586.452863</td>\n",
       "      <td>8700.768533</td>\n",
       "    </tr>\n",
       "    <tr>\n",
       "      <td>MeanSqPrice</td>\n",
       "      <td>15000.0</td>\n",
       "      <td>3932.035559</td>\n",
       "      <td>980.276585</td>\n",
       "      <td>2292.687783</td>\n",
       "      <td>2938.048239</td>\n",
       "      <td>4134.353749</td>\n",
       "      <td>4562.026777</td>\n",
       "      <td>8397.602044</td>\n",
       "    </tr>\n",
       "    <tr>\n",
       "      <td>PriceByMean</td>\n",
       "      <td>15000.0</td>\n",
       "      <td>217473.770647</td>\n",
       "      <td>87572.769770</td>\n",
       "      <td>14174.808617</td>\n",
       "      <td>156469.925006</td>\n",
       "      <td>198065.194818</td>\n",
       "      <td>258802.846342</td>\n",
       "      <td>549650.600382</td>\n",
       "    </tr>\n",
       "  </tbody>\n",
       "</table>\n",
       "</div>"
      ],
      "text/plain": [
       "                     count           mean           std           min  \\\n",
       "DistrictId         15000.0      50.693600     43.786257      0.000000   \n",
       "Ecology_1          15000.0       0.119196      0.119371      0.000000   \n",
       "Floor              15000.0       8.558067      5.293968      1.000000   \n",
       "Healthcare_1       15000.0     596.393067    938.030826     -1.000000   \n",
       "Helthcare_2        15000.0       1.319467      1.489012      0.000000   \n",
       "HouseFloor         15000.0      14.275933      5.687502      1.000000   \n",
       "HouseYear          15000.0    1984.709000     18.466387   1908.000000   \n",
       "Id                 15000.0    8393.136933   4850.111673      0.000000   \n",
       "KitchenSquare      15000.0       6.239803      4.029853      1.000000   \n",
       "LifeSquare         15000.0      37.466459     63.484393      0.333490   \n",
       "Price              10000.0  214138.857399  92872.293865  59174.778028   \n",
       "Rooms              15000.0       1.895733      0.812879      1.000000   \n",
       "Shops_1            15000.0       4.235133      4.796545      0.000000   \n",
       "Social_1           15000.0      24.769267     17.532278      0.000000   \n",
       "Social_2           15000.0    5370.404933   4013.364403    168.000000   \n",
       "Social_3           15000.0       8.113667     23.841946      0.000000   \n",
       "Square             15000.0      55.974954     17.691742      4.967143   \n",
       "LifeSquareNan      15000.0       0.210267      0.407512      0.000000   \n",
       "Healthcare1Nan     15000.0       0.478333      0.499547      0.000000   \n",
       "Ecology_2_int      15000.0       0.990333      0.097846      0.000000   \n",
       "Ecology_3_int      15000.0       0.971733      0.165739      0.000000   \n",
       "Shops_2_int        15000.0       0.917533      0.275084      0.000000   \n",
       "DistrictPrice      15000.0  214206.413198  54196.806897      0.000000   \n",
       "DistrictRoomPrice  15000.0  210491.332365  76482.436157      0.000000   \n",
       "Square_10          15000.0       5.065867      1.700663      0.000000   \n",
       "Square_15          15000.0       3.222733      1.189741      0.000000   \n",
       "SqPrice            10000.0    3894.943540   1217.091698   1140.589309   \n",
       "HouseYear10        15000.0    1979.474000     18.504580   1900.000000   \n",
       "MeanSqPrice_HYear  15000.0    3933.703467   1038.300853   1207.535586   \n",
       "MeanSqPrice        15000.0    3932.035559    980.276585   2292.687783   \n",
       "PriceByMean        15000.0  217473.770647  87572.769770  14174.808617   \n",
       "\n",
       "                             25%            50%            75%            max  \n",
       "DistrictId             20.000000      37.000000      75.000000     212.000000  \n",
       "Ecology_1               0.017647       0.075424       0.195781       0.521867  \n",
       "Floor                   4.000000       7.000000      12.000000      46.000000  \n",
       "Healthcare_1           -1.000000      30.000000     990.000000    4849.000000  \n",
       "Helthcare_2             0.000000       1.000000       2.000000       6.000000  \n",
       "HouseFloor              9.000000      15.000000      17.000000      48.000000  \n",
       "HouseYear            1974.000000    1977.000000    2001.000000    2020.000000  \n",
       "Id                   4188.750000    8378.500000   12594.250000   16798.000000  \n",
       "KitchenSquare           3.977402       6.000000       9.000000      60.000000  \n",
       "LifeSquare             24.806878      33.666240      45.236255    7480.592129  \n",
       "Price              153872.633942  192269.644879  249135.462171  633233.466570  \n",
       "Rooms                   1.000000       2.000000       2.000000       6.000000  \n",
       "Shops_1                 1.000000       3.000000       6.000000      23.000000  \n",
       "Social_1                6.000000      25.000000      36.000000      74.000000  \n",
       "Social_2             1564.000000    5285.000000    7287.000000   19083.000000  \n",
       "Social_3                0.000000       2.000000       5.000000     141.000000  \n",
       "Square                 41.844159      52.645345      65.983195     102.528290  \n",
       "LifeSquareNan           0.000000       0.000000       0.000000       1.000000  \n",
       "Healthcare1Nan          0.000000       0.000000       1.000000       1.000000  \n",
       "Ecology_2_int           1.000000       1.000000       1.000000       1.000000  \n",
       "Ecology_3_int           1.000000       1.000000       1.000000       1.000000  \n",
       "Shops_2_int             1.000000       1.000000       1.000000       1.000000  \n",
       "DistrictPrice      171615.244096  210696.110719  243688.618402  482791.138606  \n",
       "DistrictRoomPrice  165492.670249  195474.299127  240950.091574  624156.003381  \n",
       "Square_10               4.000000       5.000000       6.000000       9.000000  \n",
       "Square_15               2.000000       3.000000       4.000000       6.000000  \n",
       "SqPrice              2926.574646    3913.793153    4689.676261    8831.370739  \n",
       "HouseYear10          1970.000000    1970.000000    2000.000000    2020.000000  \n",
       "MeanSqPrice_HYear    2873.204667    4114.411772    4586.452863    8700.768533  \n",
       "MeanSqPrice          2938.048239    4134.353749    4562.026777    8397.602044  \n",
       "PriceByMean        156469.925006  198065.194818  258802.846342  549650.600382  "
      ]
     },
     "execution_count": 87,
     "metadata": {},
     "output_type": "execute_result"
    }
   ],
   "source": [
    "df.describe().T"
   ]
  },
  {
   "cell_type": "code",
   "execution_count": null,
   "metadata": {},
   "outputs": [],
   "source": []
  },
  {
   "cell_type": "markdown",
   "metadata": {},
   "source": [
    "### Построение модели"
   ]
  },
  {
   "cell_type": "code",
   "execution_count": 88,
   "metadata": {},
   "outputs": [],
   "source": [
    "def evaluate_preds(train_true_values, train_pred_values, val_true_values, val_pred_values):\n",
    "    \n",
    "    print(\"Train R2:\\t\" + str(round(r2(train_true_values, train_pred_values), 3)))\n",
    "    print(\"Valid R2:\\t\" + str(round(r2(val_true_values, val_pred_values), 3)))\n",
    "    \n",
    "    plt.figure(figsize=(18,10))\n",
    "    \n",
    "    plt.subplot(121)\n",
    "    sns.scatterplot(x=train_pred_values, y=train_true_values)\n",
    "    plt.xlabel('Predicted values')\n",
    "    plt.ylabel('True values')\n",
    "    plt.title('Train sample prediction')\n",
    "    \n",
    "    plt.subplot(122)\n",
    "    sns.scatterplot(x=val_pred_values, y=val_true_values)\n",
    "    plt.xlabel('Predicted values')\n",
    "    plt.ylabel('True values')\n",
    "    plt.title('Test sample prediction')\n",
    "    plt.show()"
   ]
  },
  {
   "cell_type": "code",
   "execution_count": 89,
   "metadata": {},
   "outputs": [
    {
     "data": {
      "text/plain": [
       "['DistrictId',\n",
       " 'Ecology_1',\n",
       " 'Ecology_2',\n",
       " 'Ecology_3',\n",
       " 'Floor',\n",
       " 'Healthcare_1',\n",
       " 'Helthcare_2',\n",
       " 'HouseFloor',\n",
       " 'HouseYear',\n",
       " 'Id',\n",
       " 'KitchenSquare',\n",
       " 'LifeSquare',\n",
       " 'Price',\n",
       " 'Rooms',\n",
       " 'Shops_1',\n",
       " 'Shops_2',\n",
       " 'Social_1',\n",
       " 'Social_2',\n",
       " 'Social_3',\n",
       " 'Square',\n",
       " 'LifeSquareNan',\n",
       " 'Healthcare1Nan',\n",
       " 'Ecology_2_int',\n",
       " 'Ecology_3_int',\n",
       " 'Shops_2_int',\n",
       " 'DistrictPrice',\n",
       " 'DistrictRoomPrice',\n",
       " 'Square_10',\n",
       " 'Square_15',\n",
       " 'SqPrice',\n",
       " 'HouseYear10',\n",
       " 'MeanSqPrice_HYear',\n",
       " 'MeanSqPrice',\n",
       " 'PriceByMean']"
      ]
     },
     "execution_count": 89,
     "metadata": {},
     "output_type": "execute_result"
    }
   ],
   "source": [
    "df.columns.tolist()"
   ]
  },
  {
   "cell_type": "code",
   "execution_count": 90,
   "metadata": {},
   "outputs": [],
   "source": [
    "feature_names = [\n",
    " 'Ecology_1',\n",
    " 'Floor',\n",
    " 'Healthcare_1',\n",
    " 'Helthcare_2',\n",
    " 'HouseFloor',\n",
    " 'HouseYear',\n",
    " 'KitchenSquare',\n",
    " 'LifeSquare',\n",
    " 'Rooms',\n",
    " 'Shops_1',\n",
    " 'Social_1',\n",
    " 'Social_2',\n",
    " 'Social_3',\n",
    " 'Square',\n",
    " 'DistrictPrice',\n",
    " 'DistrictRoomPrice',\n",
    " 'Square_10',\n",
    " 'Square_15',\n",
    " 'HouseYear10',\n",
    " 'MeanSqPrice_HYear',\n",
    " 'MeanSqPrice',\n",
    " 'PriceByMean'\n",
    "]\n",
    "\n",
    "target_name = 'Price'"
   ]
  },
  {
   "cell_type": "code",
   "execution_count": 91,
   "metadata": {},
   "outputs": [],
   "source": [
    "X = df.loc[np.isnan(df.Price)==False, feature_names]\n",
    "y = df.loc[np.isnan(df.Price)==False, target_name]"
   ]
  },
  {
   "cell_type": "code",
   "execution_count": 92,
   "metadata": {},
   "outputs": [],
   "source": [
    "X_train, X_valid, y_train, y_valid = train_test_split(X, y, test_size=0.3, shuffle=True, random_state=42)"
   ]
  },
  {
   "cell_type": "code",
   "execution_count": 93,
   "metadata": {},
   "outputs": [
    {
     "data": {
      "text/plain": [
       "RandomForestRegressor(bootstrap=True, criterion='mse', max_depth=10,\n",
       "                      max_features=7, max_leaf_nodes=None,\n",
       "                      min_impurity_decrease=0.0, min_impurity_split=None,\n",
       "                      min_samples_leaf=1, min_samples_split=2,\n",
       "                      min_weight_fraction_leaf=0.0, n_estimators=400,\n",
       "                      n_jobs=None, oob_score=False, random_state=42, verbose=0,\n",
       "                      warm_start=False)"
      ]
     },
     "execution_count": 93,
     "metadata": {},
     "output_type": "execute_result"
    }
   ],
   "source": [
    "GBR2 = RandomForestRegressor(max_depth=10, max_features=7, n_estimators=400, random_state=42)\n",
    "GBR2.fit(X_train, y_train)"
   ]
  },
  {
   "cell_type": "code",
   "execution_count": 94,
   "metadata": {},
   "outputs": [
    {
     "name": "stdout",
     "output_type": "stream",
     "text": [
      "Train R2:\t0.907\n",
      "Valid R2:\t0.769\n"
     ]
    },
    {
     "data": {
      "image/png": "[encoded data removed]",
      "text/plain": [
       "<Figure size 1296x720 with 2 Axes>"
      ]
     },
     "metadata": {
      "needs_background": "light"
     },
     "output_type": "display_data"
    }
   ],
   "source": [
    "y_train_pred = GBR2.predict(X_train)\n",
    "y_valid_pred = GBR2.predict(X_valid)\n",
    "\n",
    "evaluate_preds(y_train, y_train_pred, y_valid, y_valid_pred)"
   ]
  },
  {
   "cell_type": "markdown",
   "metadata": {},
   "source": [
    "### Предсказание на Test"
   ]
  },
  {
   "cell_type": "code",
   "execution_count": 95,
   "metadata": {},
   "outputs": [
    {
     "data": {
      "text/html": [
       "<div>\n",
       "<style scoped>\n",
       "    .dataframe tbody tr th:only-of-type {\n",
       "        vertical-align: middle;\n",
       "    }\n",
       "\n",
       "    .dataframe tbody tr th {\n",
       "        vertical-align: top;\n",
       "    }\n",
       "\n",
       "    .dataframe thead th {\n",
       "        text-align: right;\n",
       "    }\n",
       "</style>\n",
       "<table border=\"1\" class=\"dataframe\">\n",
       "  <thead>\n",
       "    <tr style=\"text-align: right;\">\n",
       "      <th></th>\n",
       "      <th>Ecology_1</th>\n",
       "      <th>Floor</th>\n",
       "      <th>Healthcare_1</th>\n",
       "      <th>Helthcare_2</th>\n",
       "      <th>HouseFloor</th>\n",
       "      <th>HouseYear</th>\n",
       "      <th>KitchenSquare</th>\n",
       "      <th>LifeSquare</th>\n",
       "      <th>Rooms</th>\n",
       "      <th>Shops_1</th>\n",
       "      <th>...</th>\n",
       "      <th>DistrictPrice</th>\n",
       "      <th>DistrictRoomPrice</th>\n",
       "      <th>Square_10</th>\n",
       "      <th>Square_15</th>\n",
       "      <th>HouseYear10</th>\n",
       "      <th>MeanSqPrice_HYear</th>\n",
       "      <th>MeanSqPrice</th>\n",
       "      <th>PriceByMean</th>\n",
       "      <th>Id</th>\n",
       "      <th>Price</th>\n",
       "    </tr>\n",
       "  </thead>\n",
       "  <tbody>\n",
       "    <tr>\n",
       "      <td>10000</td>\n",
       "      <td>0.310199</td>\n",
       "      <td>6.0</td>\n",
       "      <td>-1.0</td>\n",
       "      <td>0</td>\n",
       "      <td>14.0</td>\n",
       "      <td>1972</td>\n",
       "      <td>6.0</td>\n",
       "      <td>33.432782</td>\n",
       "      <td>2.0</td>\n",
       "      <td>0</td>\n",
       "      <td>...</td>\n",
       "      <td>162287.311374</td>\n",
       "      <td>166809.665642</td>\n",
       "      <td>4</td>\n",
       "      <td>3</td>\n",
       "      <td>1970</td>\n",
       "      <td>2509.104198</td>\n",
       "      <td>2949.975415</td>\n",
       "      <td>125160.749931</td>\n",
       "      <td>725</td>\n",
       "      <td>140319.031657</td>\n",
       "    </tr>\n",
       "    <tr>\n",
       "      <td>10001</td>\n",
       "      <td>0.075779</td>\n",
       "      <td>6.0</td>\n",
       "      <td>-1.0</td>\n",
       "      <td>0</td>\n",
       "      <td>14.0</td>\n",
       "      <td>1977</td>\n",
       "      <td>1.0</td>\n",
       "      <td>45.756220</td>\n",
       "      <td>2.0</td>\n",
       "      <td>2</td>\n",
       "      <td>...</td>\n",
       "      <td>210696.110719</td>\n",
       "      <td>243031.695525</td>\n",
       "      <td>6</td>\n",
       "      <td>4</td>\n",
       "      <td>1970</td>\n",
       "      <td>3268.306671</td>\n",
       "      <td>3347.534056</td>\n",
       "      <td>226373.324591</td>\n",
       "      <td>15856</td>\n",
       "      <td>221402.792064</td>\n",
       "    </tr>\n",
       "    <tr>\n",
       "      <td>10002</td>\n",
       "      <td>0.000000</td>\n",
       "      <td>2.0</td>\n",
       "      <td>4702.0</td>\n",
       "      <td>5</td>\n",
       "      <td>5.0</td>\n",
       "      <td>1909</td>\n",
       "      <td>12.0</td>\n",
       "      <td>15.948246</td>\n",
       "      <td>1.0</td>\n",
       "      <td>5</td>\n",
       "      <td>...</td>\n",
       "      <td>471966.746348</td>\n",
       "      <td>0.000000</td>\n",
       "      <td>1</td>\n",
       "      <td>0</td>\n",
       "      <td>1900</td>\n",
       "      <td>8001.266223</td>\n",
       "      <td>8001.266223</td>\n",
       "      <td>108799.765887</td>\n",
       "      <td>5480</td>\n",
       "      <td>148169.020821</td>\n",
       "    </tr>\n",
       "    <tr>\n",
       "      <td>10003</td>\n",
       "      <td>0.101872</td>\n",
       "      <td>22.0</td>\n",
       "      <td>-1.0</td>\n",
       "      <td>3</td>\n",
       "      <td>22.0</td>\n",
       "      <td>2007</td>\n",
       "      <td>9.0</td>\n",
       "      <td>51.940842</td>\n",
       "      <td>2.0</td>\n",
       "      <td>3</td>\n",
       "      <td>...</td>\n",
       "      <td>213625.761375</td>\n",
       "      <td>222227.584211</td>\n",
       "      <td>7</td>\n",
       "      <td>4</td>\n",
       "      <td>2000</td>\n",
       "      <td>4243.036976</td>\n",
       "      <td>4181.963615</td>\n",
       "      <td>309939.463875</td>\n",
       "      <td>15664</td>\n",
       "      <td>296090.737369</td>\n",
       "    </tr>\n",
       "    <tr>\n",
       "      <td>10004</td>\n",
       "      <td>0.072158</td>\n",
       "      <td>17.0</td>\n",
       "      <td>-1.0</td>\n",
       "      <td>0</td>\n",
       "      <td>17.0</td>\n",
       "      <td>2017</td>\n",
       "      <td>1.0</td>\n",
       "      <td>43.387569</td>\n",
       "      <td>1.0</td>\n",
       "      <td>0</td>\n",
       "      <td>...</td>\n",
       "      <td>156046.416277</td>\n",
       "      <td>118309.315585</td>\n",
       "      <td>4</td>\n",
       "      <td>3</td>\n",
       "      <td>2010</td>\n",
       "      <td>2760.234034</td>\n",
       "      <td>2761.266747</td>\n",
       "      <td>131185.948511</td>\n",
       "      <td>14275</td>\n",
       "      <td>139333.171767</td>\n",
       "    </tr>\n",
       "  </tbody>\n",
       "</table>\n",
       "<p>5 rows × 24 columns</p>\n",
       "</div>"
      ],
      "text/plain": [
       "       Ecology_1  Floor  Healthcare_1  Helthcare_2  HouseFloor  HouseYear  \\\n",
       "10000   0.310199    6.0          -1.0            0        14.0       1972   \n",
       "10001   0.075779    6.0          -1.0            0        14.0       1977   \n",
       "10002   0.000000    2.0        4702.0            5         5.0       1909   \n",
       "10003   0.101872   22.0          -1.0            3        22.0       2007   \n",
       "10004   0.072158   17.0          -1.0            0        17.0       2017   \n",
       "\n",
       "       KitchenSquare  LifeSquare  Rooms  Shops_1  ...  DistrictPrice  \\\n",
       "10000            6.0   33.432782    2.0        0  ...  162287.311374   \n",
       "10001            1.0   45.756220    2.0        2  ...  210696.110719   \n",
       "10002           12.0   15.948246    1.0        5  ...  471966.746348   \n",
       "10003            9.0   51.940842    2.0        3  ...  213625.761375   \n",
       "10004            1.0   43.387569    1.0        0  ...  156046.416277   \n",
       "\n",
       "       DistrictRoomPrice  Square_10  Square_15  HouseYear10  \\\n",
       "10000      166809.665642          4          3         1970   \n",
       "10001      243031.695525          6          4         1970   \n",
       "10002           0.000000          1          0         1900   \n",
       "10003      222227.584211          7          4         2000   \n",
       "10004      118309.315585          4          3         2010   \n",
       "\n",
       "       MeanSqPrice_HYear  MeanSqPrice    PriceByMean     Id          Price  \n",
       "10000        2509.104198  2949.975415  125160.749931    725  140319.031657  \n",
       "10001        3268.306671  3347.534056  226373.324591  15856  221402.792064  \n",
       "10002        8001.266223  8001.266223  108799.765887   5480  148169.020821  \n",
       "10003        4243.036976  4181.963615  309939.463875  15664  296090.737369  \n",
       "10004        2760.234034  2761.266747  131185.948511  14275  139333.171767  \n",
       "\n",
       "[5 rows x 24 columns]"
      ]
     },
     "execution_count": 95,
     "metadata": {},
     "output_type": "execute_result"
    }
   ],
   "source": [
    "X_test = df.loc[np.isnan(df.Price), feature_names + ['Id']]\n",
    "\n",
    "X_test[\"Price\"] = GBR2.predict(X_test[feature_names])\n",
    "\n",
    "X_test.head()"
   ]
  },
  {
   "cell_type": "code",
   "execution_count": 96,
   "metadata": {},
   "outputs": [],
   "source": [
    "y_test = X_test.loc[:, ['Id', 'Price']]\n",
    "\n",
    "y_test.to_csv('Zharova_Natalija_predictions.csv', index=False)"
   ]
  },
  {
   "cell_type": "markdown",
   "metadata": {},
   "source": [
    "https://www.kaggle.com/c/realestatepriceprediction/submit"
   ]
  },
  {
   "cell_type": "code",
   "execution_count": null,
   "metadata": {},
   "outputs": [],
   "source": []
  }
 ],
 "metadata": {
  "kernelspec": {
   "display_name": "Python 3",
   "language": "python",
   "name": "python3"
  },
  "language_info": {
   "codemirror_mode": {
    "name": "ipython",
    "version": 3
   },
   "file_extension": ".py",
   "mimetype": "text/x-python",
   "name": "python",
   "nbconvert_exporter": "python",
   "pygments_lexer": "ipython3",
   "version": "3.7.4"
  }
 },
 "nbformat": 4,
 "nbformat_minor": 2
}
